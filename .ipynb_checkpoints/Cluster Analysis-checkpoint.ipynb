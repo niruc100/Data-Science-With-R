{
 "cells": [
  {
   "cell_type": "markdown",
   "id": "882e45cd",
   "metadata": {},
   "source": [
    "# Prepare The Data"
   ]
  },
  {
   "cell_type": "code",
   "execution_count": 1,
   "id": "106e7ca7",
   "metadata": {
    "ExecuteTime": {
     "end_time": "2022-04-05T22:07:06.758804Z",
     "start_time": "2022-04-05T22:07:05.672Z"
    }
   },
   "outputs": [
    {
     "name": "stderr",
     "output_type": "stream",
     "text": [
      "Warning message:\n",
      "\"package 'mclust' was built under R version 3.6.3\"Package 'mclust' version 5.4.7\n",
      "Type 'citation(\"mclust\")' for citing this R package in publications.\n",
      "Registered S3 methods overwritten by 'ggplot2':\n",
      "  method         from \n",
      "  [.quosures     rlang\n",
      "  c.quosures     rlang\n",
      "  print.quosures rlang\n",
      "Warning message:\n",
      "\"package 'dendextend' was built under R version 3.6.3\""
     ]
    }
   ],
   "source": [
    "library(mclust)\n",
    "library(ggplot2)\n",
    "suppressPackageStartupMessages(library(dendextend))"
   ]
  },
  {
   "cell_type": "code",
   "execution_count": 2,
   "id": "e35f195e",
   "metadata": {
    "ExecuteTime": {
     "end_time": "2022-04-05T22:07:06.829980Z",
     "start_time": "2022-04-05T22:07:06.318Z"
    }
   },
   "outputs": [],
   "source": [
    "data(banknote)"
   ]
  },
  {
   "cell_type": "code",
   "execution_count": 3,
   "id": "8bb3f655",
   "metadata": {
    "ExecuteTime": {
     "end_time": "2022-04-05T22:07:06.916216Z",
     "start_time": "2022-04-05T22:07:06.867Z"
    }
   },
   "outputs": [
    {
     "data": {
      "text/html": [
       "<table>\n",
       "<thead><tr><th scope=col>Status</th><th scope=col>Length</th><th scope=col>Left</th><th scope=col>Right</th><th scope=col>Bottom</th><th scope=col>Top</th><th scope=col>Diagonal</th></tr></thead>\n",
       "<tbody>\n",
       "\t<tr><td>genuine</td><td>214.8  </td><td>131.0  </td><td>131.1  </td><td> 9.0   </td><td> 9.7   </td><td>141.0  </td></tr>\n",
       "\t<tr><td>genuine</td><td>214.6  </td><td>129.7  </td><td>129.7  </td><td> 8.1   </td><td> 9.5   </td><td>141.7  </td></tr>\n",
       "\t<tr><td>genuine</td><td>214.8  </td><td>129.7  </td><td>129.7  </td><td> 8.7   </td><td> 9.6   </td><td>142.2  </td></tr>\n",
       "\t<tr><td>genuine</td><td>214.8  </td><td>129.7  </td><td>129.6  </td><td> 7.5   </td><td>10.4   </td><td>142.0  </td></tr>\n",
       "\t<tr><td>genuine</td><td>215.0  </td><td>129.6  </td><td>129.7  </td><td>10.4   </td><td> 7.7   </td><td>141.8  </td></tr>\n",
       "\t<tr><td>genuine</td><td>215.7  </td><td>130.8  </td><td>130.5  </td><td> 9.0   </td><td>10.1   </td><td>141.4  </td></tr>\n",
       "</tbody>\n",
       "</table>\n"
      ],
      "text/latex": [
       "\\begin{tabular}{r|lllllll}\n",
       " Status & Length & Left & Right & Bottom & Top & Diagonal\\\\\n",
       "\\hline\n",
       "\t genuine & 214.8   & 131.0   & 131.1   &  9.0    &  9.7    & 141.0  \\\\\n",
       "\t genuine & 214.6   & 129.7   & 129.7   &  8.1    &  9.5    & 141.7  \\\\\n",
       "\t genuine & 214.8   & 129.7   & 129.7   &  8.7    &  9.6    & 142.2  \\\\\n",
       "\t genuine & 214.8   & 129.7   & 129.6   &  7.5    & 10.4    & 142.0  \\\\\n",
       "\t genuine & 215.0   & 129.6   & 129.7   & 10.4    &  7.7    & 141.8  \\\\\n",
       "\t genuine & 215.7   & 130.8   & 130.5   &  9.0    & 10.1    & 141.4  \\\\\n",
       "\\end{tabular}\n"
      ],
      "text/markdown": [
       "\n",
       "| Status | Length | Left | Right | Bottom | Top | Diagonal |\n",
       "|---|---|---|---|---|---|---|\n",
       "| genuine | 214.8   | 131.0   | 131.1   |  9.0    |  9.7    | 141.0   |\n",
       "| genuine | 214.6   | 129.7   | 129.7   |  8.1    |  9.5    | 141.7   |\n",
       "| genuine | 214.8   | 129.7   | 129.7   |  8.7    |  9.6    | 142.2   |\n",
       "| genuine | 214.8   | 129.7   | 129.6   |  7.5    | 10.4    | 142.0   |\n",
       "| genuine | 215.0   | 129.6   | 129.7   | 10.4    |  7.7    | 141.8   |\n",
       "| genuine | 215.7   | 130.8   | 130.5   |  9.0    | 10.1    | 141.4   |\n",
       "\n"
      ],
      "text/plain": [
       "  Status  Length Left  Right Bottom Top  Diagonal\n",
       "1 genuine 214.8  131.0 131.1  9.0    9.7 141.0   \n",
       "2 genuine 214.6  129.7 129.7  8.1    9.5 141.7   \n",
       "3 genuine 214.8  129.7 129.7  8.7    9.6 142.2   \n",
       "4 genuine 214.8  129.7 129.6  7.5   10.4 142.0   \n",
       "5 genuine 215.0  129.6 129.7 10.4    7.7 141.8   \n",
       "6 genuine 215.7  130.8 130.5  9.0   10.1 141.4   "
      ]
     },
     "metadata": {},
     "output_type": "display_data"
    }
   ],
   "source": [
    "head(banknote)"
   ]
  },
  {
   "cell_type": "code",
   "execution_count": 4,
   "id": "16566336",
   "metadata": {
    "ExecuteTime": {
     "end_time": "2022-04-05T22:07:07.195039Z",
     "start_time": "2022-04-05T22:07:07.151Z"
    }
   },
   "outputs": [
    {
     "data": {
      "text/html": [
       "<table>\n",
       "<thead><tr><th></th><th scope=col>Status</th><th scope=col>Length</th><th scope=col>Left</th><th scope=col>Right</th><th scope=col>Bottom</th><th scope=col>Top</th><th scope=col>Diagonal</th></tr></thead>\n",
       "<tbody>\n",
       "\t<tr><th scope=row>26</th><td>genuine    </td><td>215.3      </td><td>130.4      </td><td>130.4      </td><td> 8.0       </td><td>11.0       </td><td>142.3      </td></tr>\n",
       "\t<tr><th scope=row>59</th><td>genuine    </td><td>215.1      </td><td>130.1      </td><td>129.9      </td><td> 7.9       </td><td>11.0       </td><td>141.3      </td></tr>\n",
       "\t<tr><th scope=row>37</th><td>genuine    </td><td>215.5      </td><td>130.3      </td><td>130.0      </td><td> 8.4       </td><td> 9.7       </td><td>141.8      </td></tr>\n",
       "\t<tr><th scope=row>176</th><td>counterfeit</td><td>214.9      </td><td>130.4      </td><td>130.2      </td><td>11.9       </td><td>10.7       </td><td>139.0      </td></tr>\n",
       "\t<tr><th scope=row>70</th><td>genuine    </td><td>214.9      </td><td>130.2      </td><td>130.2      </td><td> 8.0       </td><td>11.2       </td><td>139.6      </td></tr>\n",
       "</tbody>\n",
       "</table>\n"
      ],
      "text/latex": [
       "\\begin{tabular}{r|lllllll}\n",
       "  & Status & Length & Left & Right & Bottom & Top & Diagonal\\\\\n",
       "\\hline\n",
       "\t26 & genuine     & 215.3       & 130.4       & 130.4       &  8.0        & 11.0        & 142.3      \\\\\n",
       "\t59 & genuine     & 215.1       & 130.1       & 129.9       &  7.9        & 11.0        & 141.3      \\\\\n",
       "\t37 & genuine     & 215.5       & 130.3       & 130.0       &  8.4        &  9.7        & 141.8      \\\\\n",
       "\t176 & counterfeit & 214.9       & 130.4       & 130.2       & 11.9        & 10.7        & 139.0      \\\\\n",
       "\t70 & genuine     & 214.9       & 130.2       & 130.2       &  8.0        & 11.2        & 139.6      \\\\\n",
       "\\end{tabular}\n"
      ],
      "text/markdown": [
       "\n",
       "| <!--/--> | Status | Length | Left | Right | Bottom | Top | Diagonal |\n",
       "|---|---|---|---|---|---|---|---|\n",
       "| 26 | genuine     | 215.3       | 130.4       | 130.4       |  8.0        | 11.0        | 142.3       |\n",
       "| 59 | genuine     | 215.1       | 130.1       | 129.9       |  7.9        | 11.0        | 141.3       |\n",
       "| 37 | genuine     | 215.5       | 130.3       | 130.0       |  8.4        |  9.7        | 141.8       |\n",
       "| 176 | counterfeit | 214.9       | 130.4       | 130.2       | 11.9        | 10.7        | 139.0       |\n",
       "| 70 | genuine     | 214.9       | 130.2       | 130.2       |  8.0        | 11.2        | 139.6       |\n",
       "\n"
      ],
      "text/plain": [
       "    Status      Length Left  Right Bottom Top  Diagonal\n",
       "26  genuine     215.3  130.4 130.4  8.0   11.0 142.3   \n",
       "59  genuine     215.1  130.1 129.9  7.9   11.0 141.3   \n",
       "37  genuine     215.5  130.3 130.0  8.4    9.7 141.8   \n",
       "176 counterfeit 214.9  130.4 130.2 11.9   10.7 139.0   \n",
       "70  genuine     214.9  130.2 130.2  8.0   11.2 139.6   "
      ]
     },
     "metadata": {},
     "output_type": "display_data"
    }
   ],
   "source": [
    "banknote[sample.int(nrow(banknote), 5), ]"
   ]
  },
  {
   "cell_type": "code",
   "execution_count": 5,
   "id": "41fbd112",
   "metadata": {
    "ExecuteTime": {
     "end_time": "2022-04-05T22:07:07.478009Z",
     "start_time": "2022-04-05T22:07:07.440Z"
    }
   },
   "outputs": [
    {
     "data": {
      "text/plain": [
       "         Status        Length           Left           Right      \n",
       " counterfeit:100   Min.   :213.8   Min.   :129.0   Min.   :129.0  \n",
       " genuine    :100   1st Qu.:214.6   1st Qu.:129.9   1st Qu.:129.7  \n",
       "                   Median :214.9   Median :130.2   Median :130.0  \n",
       "                   Mean   :214.9   Mean   :130.1   Mean   :130.0  \n",
       "                   3rd Qu.:215.1   3rd Qu.:130.4   3rd Qu.:130.2  \n",
       "                   Max.   :216.3   Max.   :131.0   Max.   :131.1  \n",
       "     Bottom            Top           Diagonal    \n",
       " Min.   : 7.200   Min.   : 7.70   Min.   :137.8  \n",
       " 1st Qu.: 8.200   1st Qu.:10.10   1st Qu.:139.5  \n",
       " Median : 9.100   Median :10.60   Median :140.4  \n",
       " Mean   : 9.418   Mean   :10.65   Mean   :140.5  \n",
       " 3rd Qu.:10.600   3rd Qu.:11.20   3rd Qu.:141.5  \n",
       " Max.   :12.700   Max.   :12.30   Max.   :142.4  "
      ]
     },
     "metadata": {},
     "output_type": "display_data"
    }
   ],
   "source": [
    "summary(banknote)"
   ]
  },
  {
   "cell_type": "markdown",
   "id": "9050a82c",
   "metadata": {},
   "source": [
    "Apply PCA with two Komponents to the data."
   ]
  },
  {
   "cell_type": "code",
   "execution_count": 6,
   "id": "f9d60cd6",
   "metadata": {
    "ExecuteTime": {
     "end_time": "2022-04-05T22:07:08.118908Z",
     "start_time": "2022-04-05T22:07:08.071Z"
    }
   },
   "outputs": [],
   "source": [
    "banknote_pca <- prcomp(banknote[,2:7], scale. = FALSE)"
   ]
  },
  {
   "cell_type": "code",
   "execution_count": 7,
   "id": "46b9c8b9",
   "metadata": {
    "ExecuteTime": {
     "end_time": "2022-04-05T22:07:08.352740Z",
     "start_time": "2022-04-05T22:07:08.323Z"
    }
   },
   "outputs": [],
   "source": [
    "pcs_banknote <- banknote_pca$x[,1:2]"
   ]
  },
  {
   "cell_type": "code",
   "execution_count": null,
   "id": "dae8ece0",
   "metadata": {},
   "outputs": [],
   "source": []
  },
  {
   "cell_type": "code",
   "execution_count": 8,
   "id": "e85b729c",
   "metadata": {
    "ExecuteTime": {
     "end_time": "2022-04-05T22:07:09.471664Z",
     "start_time": "2022-04-05T22:07:09.017Z"
    }
   },
   "outputs": [
    {
     "data": {
      "image/png": "[encoded data removed]",
      "text/plain": [
       "plot without title"
      ]
     },
     "metadata": {},
     "output_type": "display_data"
    }
   ],
   "source": [
    "plot_data <- data.frame('PC1' = pcs_banknote[,1], 'PC2' = pcs_banknote[,2] , 'Status' = banknote$Status)\n",
    "ggplot(plot_data, aes(PC1, PC2, color=Status)) + \n",
    "geom_point() +\n",
    "theme_minimal() +\n",
    "labs(title = 'Scatterplot of first two PCs colored by their class')                                "
   ]
  },
  {
   "cell_type": "markdown",
   "id": "4660d6fe",
   "metadata": {},
   "source": [
    "# Agglomerative Hierarchical Clustering"
   ]
  },
  {
   "cell_type": "code",
   "execution_count": null,
   "id": "03b18c70",
   "metadata": {},
   "outputs": [],
   "source": [
    "# functions for binary distances\n",
    "matching_coefficient <- function(x, y){\n",
    "    if length(x) == length(y)\n",
    "}"
   ]
  },
  {
   "cell_type": "code",
   "execution_count": 9,
   "id": "4e025cb6",
   "metadata": {
    "ExecuteTime": {
     "end_time": "2022-04-05T22:07:09.591665Z",
     "start_time": "2022-04-05T22:07:09.567Z"
    }
   },
   "outputs": [],
   "source": [
    "# compute the distance matrix\n",
    "dist_banknote <- dist(pcs_banknote)"
   ]
  },
  {
   "cell_type": "code",
   "execution_count": 10,
   "id": "363acb63",
   "metadata": {
    "ExecuteTime": {
     "end_time": "2022-04-05T22:07:09.860807Z",
     "start_time": "2022-04-05T22:07:09.823Z"
    }
   },
   "outputs": [],
   "source": [
    "cl_single <- hclust(dist_banknote, method = 'single')\n",
    "cl_complete <- hclust(dist_banknote, method = 'complete')\n",
    "cl_mean <- hclust(dist_banknote, method = 'average')\n",
    "cl_ward <- hclust(dist_banknote, method = 'ward.D2')"
   ]
  },
  {
   "cell_type": "code",
   "execution_count": 11,
   "id": "c844971e",
   "metadata": {
    "ExecuteTime": {
     "end_time": "2022-04-05T22:07:10.861831Z",
     "start_time": "2022-04-05T22:07:10.133Z"
    }
   },
   "outputs": [
    {
     "data": {
      "image/png": "[encoded data removed]",
      "text/plain": [
       "Plot with title \"Cluster Dendrogram\""
      ]
     },
     "metadata": {},
     "output_type": "display_data"
    }
   ],
   "source": [
    "par(mfrow = c(2,2))\n",
    "plot(cl_single)\n",
    "plot(cl_complete)\n",
    "plot(cl_mean)\n",
    "plot(cl_ward)"
   ]
  },
  {
   "cell_type": "code",
   "execution_count": 12,
   "id": "e4190f20",
   "metadata": {
    "ExecuteTime": {
     "end_time": "2022-04-05T22:07:11.452539Z",
     "start_time": "2022-04-05T22:07:10.440Z"
    }
   },
   "outputs": [
    {
     "data": {
      "image/png": "[encoded data removed]",
      "text/plain": [
       "plot without title"
      ]
     },
     "metadata": {},
     "output_type": "display_data"
    }
   ],
   "source": [
    "# Now color the respective cluster\n",
    "par(mfrow = c(1,2))\n",
    "options(repr.plot.width = 7.5, repr.plot.height = 3.5)\n",
    "plot(color_branches(as.dendrogram(cl_single), k = 3, col= c('red','black',  'green')))\n",
    "plot(pcs_banknote, col = cutree(cl_single, k=3), pch = 16)"
   ]
  },
  {
   "cell_type": "code",
   "execution_count": 13,
   "id": "38e80373",
   "metadata": {
    "ExecuteTime": {
     "end_time": "2022-04-05T22:07:12.011711Z",
     "start_time": "2022-04-05T22:07:10.945Z"
    }
   },
   "outputs": [
    {
     "data": {
      "image/png": "[encoded data removed]",
      "text/plain": [
       "plot without title"
      ]
     },
     "metadata": {},
     "output_type": "display_data"
    }
   ],
   "source": [
    "par(mfrow = c(1,2))\n",
    "options(repr.plot.width = 7.5, repr.plot.height = 3.5)\n",
    "plot(color_branches(as.dendrogram(cl_complete), k = 3, col= c('black', 'green','red')))\n",
    "plot(pcs_banknote, col = cutree(cl_complete, k=3), pch = 16)"
   ]
  },
  {
   "cell_type": "code",
   "execution_count": 14,
   "id": "2bfbc717",
   "metadata": {
    "ExecuteTime": {
     "end_time": "2022-04-05T22:07:12.598826Z",
     "start_time": "2022-04-05T22:07:11.313Z"
    }
   },
   "outputs": [
    {
     "data": {
      "image/png": "[encoded data removed]",
      "text/plain": [
       "plot without title"
      ]
     },
     "metadata": {},
     "output_type": "display_data"
    }
   ],
   "source": [
    "par(mfrow = c(1,2))\n",
    "options(repr.plot.width = 7.5, repr.plot.height = 3.5)\n",
    "plot(color_branches(as.dendrogram(cl_mean), k = 4, col=c('green', 'blue', 'red', 'black')))\n",
    "plot(pcs_banknote, col = cutree(cl_mean, k=4), pch = 16)"
   ]
  },
  {
   "cell_type": "code",
   "execution_count": 15,
   "id": "8273126f",
   "metadata": {
    "ExecuteTime": {
     "end_time": "2022-04-05T22:07:13.202155Z",
     "start_time": "2022-04-05T22:07:11.705Z"
    }
   },
   "outputs": [
    {
     "data": {
      "image/png": "[encoded data removed]",
      "text/plain": [
       "plot without title"
      ]
     },
     "metadata": {},
     "output_type": "display_data"
    }
   ],
   "source": [
    "par(mfrow = c(1,2))\n",
    "options(repr.plot.width = 7.5, repr.plot.height = 3.5)\n",
    "plot(color_branches(as.dendrogram(cl_ward), k = 2, col = c('red', 'black')))\n",
    "plot(pcs_banknote, col = cutree(cl_ward, k=2), pch = 16)"
   ]
  },
  {
   "cell_type": "code",
   "execution_count": null,
   "id": "5940f918",
   "metadata": {},
   "outputs": [],
   "source": []
  }
 ],
 "metadata": {
  "kernelspec": {
   "display_name": "R",
   "language": "R",
   "name": "ir"
  },
  "language_info": {
   "codemirror_mode": "r",
   "file_extension": ".r",
   "mimetype": "text/x-r-source",
   "name": "R",
   "pygments_lexer": "r",
   "version": "3.6.1"
  },
  "toc": {
   "base_numbering": 1,
   "nav_menu": {},
   "number_sections": true,
   "sideBar": true,
   "skip_h1_title": false,
   "title_cell": "Table of Contents",
   "title_sidebar": "Contents",
   "toc_cell": false,
   "toc_position": {},
   "toc_section_display": true,
   "toc_window_display": false
  }
 },
 "nbformat": 4,
 "nbformat_minor": 5
}
