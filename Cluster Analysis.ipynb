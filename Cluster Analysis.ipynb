{
 "cells": [
  {
   "cell_type": "code",
   "execution_count": 2,
   "id": "106e7ca7",
   "metadata": {
    "ExecuteTime": {
     "end_time": "2022-04-05T22:07:06.758804Z",
     "start_time": "2022-04-05T22:07:05.672Z"
    },
    "vscode": {
     "languageId": "r"
    }
   },
   "outputs": [],
   "source": [
    "library(mclust)\n",
    "library(flexmix)\n",
    "library(ggplot2)\n",
    "suppressPackageStartupMessages(library(dendextend))\n",
    "library(caret)\n",
    "library(mvtnorm)\n",
    "library(rsvd)"
   ]
  },
  {
   "cell_type": "markdown",
   "id": "f619ef55",
   "metadata": {},
   "source": [
    "# Load and Inspect the Data"
   ]
  },
  {
   "cell_type": "code",
   "execution_count": 3,
   "id": "e35f195e",
   "metadata": {
    "ExecuteTime": {
     "end_time": "2022-04-05T22:07:06.829980Z",
     "start_time": "2022-04-05T22:07:06.318Z"
    },
    "vscode": {
     "languageId": "r"
    }
   },
   "outputs": [],
   "source": [
    "data(banknote)"
   ]
  },
  {
   "cell_type": "code",
   "execution_count": 4,
   "id": "8bb3f655",
   "metadata": {
    "ExecuteTime": {
     "end_time": "2022-04-05T22:07:06.916216Z",
     "start_time": "2022-04-05T22:07:06.867Z"
    },
    "vscode": {
     "languageId": "r"
    }
   },
   "outputs": [
    {
     "data": {
      "text/html": [
       "<table>\n",
       "<thead><tr><th scope=col>Status</th><th scope=col>Length</th><th scope=col>Left</th><th scope=col>Right</th><th scope=col>Bottom</th><th scope=col>Top</th><th scope=col>Diagonal</th></tr></thead>\n",
       "<tbody>\n",
       "\t<tr><td>genuine</td><td>214.8  </td><td>131.0  </td><td>131.1  </td><td> 9.0   </td><td> 9.7   </td><td>141.0  </td></tr>\n",
       "\t<tr><td>genuine</td><td>214.6  </td><td>129.7  </td><td>129.7  </td><td> 8.1   </td><td> 9.5   </td><td>141.7  </td></tr>\n",
       "\t<tr><td>genuine</td><td>214.8  </td><td>129.7  </td><td>129.7  </td><td> 8.7   </td><td> 9.6   </td><td>142.2  </td></tr>\n",
       "\t<tr><td>genuine</td><td>214.8  </td><td>129.7  </td><td>129.6  </td><td> 7.5   </td><td>10.4   </td><td>142.0  </td></tr>\n",
       "\t<tr><td>genuine</td><td>215.0  </td><td>129.6  </td><td>129.7  </td><td>10.4   </td><td> 7.7   </td><td>141.8  </td></tr>\n",
       "\t<tr><td>genuine</td><td>215.7  </td><td>130.8  </td><td>130.5  </td><td> 9.0   </td><td>10.1   </td><td>141.4  </td></tr>\n",
       "</tbody>\n",
       "</table>\n"
      ],
      "text/latex": [
       "\\begin{tabular}{r|lllllll}\n",
       " Status & Length & Left & Right & Bottom & Top & Diagonal\\\\\n",
       "\\hline\n",
       "\t genuine & 214.8   & 131.0   & 131.1   &  9.0    &  9.7    & 141.0  \\\\\n",
       "\t genuine & 214.6   & 129.7   & 129.7   &  8.1    &  9.5    & 141.7  \\\\\n",
       "\t genuine & 214.8   & 129.7   & 129.7   &  8.7    &  9.6    & 142.2  \\\\\n",
       "\t genuine & 214.8   & 129.7   & 129.6   &  7.5    & 10.4    & 142.0  \\\\\n",
       "\t genuine & 215.0   & 129.6   & 129.7   & 10.4    &  7.7    & 141.8  \\\\\n",
       "\t genuine & 215.7   & 130.8   & 130.5   &  9.0    & 10.1    & 141.4  \\\\\n",
       "\\end{tabular}\n"
      ],
      "text/markdown": [
       "\n",
       "| Status | Length | Left | Right | Bottom | Top | Diagonal |\n",
       "|---|---|---|---|---|---|---|\n",
       "| genuine | 214.8   | 131.0   | 131.1   |  9.0    |  9.7    | 141.0   |\n",
       "| genuine | 214.6   | 129.7   | 129.7   |  8.1    |  9.5    | 141.7   |\n",
       "| genuine | 214.8   | 129.7   | 129.7   |  8.7    |  9.6    | 142.2   |\n",
       "| genuine | 214.8   | 129.7   | 129.6   |  7.5    | 10.4    | 142.0   |\n",
       "| genuine | 215.0   | 129.6   | 129.7   | 10.4    |  7.7    | 141.8   |\n",
       "| genuine | 215.7   | 130.8   | 130.5   |  9.0    | 10.1    | 141.4   |\n",
       "\n"
      ],
      "text/plain": [
       "  Status  Length Left  Right Bottom Top  Diagonal\n",
       "1 genuine 214.8  131.0 131.1  9.0    9.7 141.0   \n",
       "2 genuine 214.6  129.7 129.7  8.1    9.5 141.7   \n",
       "3 genuine 214.8  129.7 129.7  8.7    9.6 142.2   \n",
       "4 genuine 214.8  129.7 129.6  7.5   10.4 142.0   \n",
       "5 genuine 215.0  129.6 129.7 10.4    7.7 141.8   \n",
       "6 genuine 215.7  130.8 130.5  9.0   10.1 141.4   "
      ]
     },
     "metadata": {},
     "output_type": "display_data"
    }
   ],
   "source": [
    "head(banknote)"
   ]
  },
  {
   "cell_type": "code",
   "execution_count": 5,
   "id": "16566336",
   "metadata": {
    "ExecuteTime": {
     "end_time": "2022-04-05T22:07:07.195039Z",
     "start_time": "2022-04-05T22:07:07.151Z"
    },
    "vscode": {
     "languageId": "r"
    }
   },
   "outputs": [
    {
     "data": {
      "text/html": [
       "<table>\n",
       "<thead><tr><th></th><th scope=col>Status</th><th scope=col>Length</th><th scope=col>Left</th><th scope=col>Right</th><th scope=col>Bottom</th><th scope=col>Top</th><th scope=col>Diagonal</th></tr></thead>\n",
       "<tbody>\n",
       "\t<tr><th scope=row>108</th><td>counterfeit</td><td>214.8      </td><td>130.1      </td><td>130.4      </td><td>9.8        </td><td>11.5       </td><td>139.9      </td></tr>\n",
       "\t<tr><th scope=row>36</th><td>genuine    </td><td>214.6      </td><td>130.2      </td><td>130.2      </td><td>9.4        </td><td> 9.7       </td><td>141.8      </td></tr>\n",
       "\t<tr><th scope=row>100</th><td>genuine    </td><td>214.7      </td><td>130.0      </td><td>129.4      </td><td>7.8        </td><td>10.0       </td><td>141.2      </td></tr>\n",
       "\t<tr><th scope=row>4</th><td>genuine    </td><td>214.8      </td><td>129.7      </td><td>129.6      </td><td>7.5        </td><td>10.4       </td><td>142.0      </td></tr>\n",
       "\t<tr><th scope=row>7</th><td>genuine    </td><td>215.5      </td><td>129.5      </td><td>129.7      </td><td>7.9        </td><td> 9.6       </td><td>141.6      </td></tr>\n",
       "</tbody>\n",
       "</table>\n"
      ],
      "text/latex": [
       "\\begin{tabular}{r|lllllll}\n",
       "  & Status & Length & Left & Right & Bottom & Top & Diagonal\\\\\n",
       "\\hline\n",
       "\t108 & counterfeit & 214.8       & 130.1       & 130.4       & 9.8         & 11.5        & 139.9      \\\\\n",
       "\t36 & genuine     & 214.6       & 130.2       & 130.2       & 9.4         &  9.7        & 141.8      \\\\\n",
       "\t100 & genuine     & 214.7       & 130.0       & 129.4       & 7.8         & 10.0        & 141.2      \\\\\n",
       "\t4 & genuine     & 214.8       & 129.7       & 129.6       & 7.5         & 10.4        & 142.0      \\\\\n",
       "\t7 & genuine     & 215.5       & 129.5       & 129.7       & 7.9         &  9.6        & 141.6      \\\\\n",
       "\\end{tabular}\n"
      ],
      "text/markdown": [
       "\n",
       "| <!--/--> | Status | Length | Left | Right | Bottom | Top | Diagonal |\n",
       "|---|---|---|---|---|---|---|---|\n",
       "| 108 | counterfeit | 214.8       | 130.1       | 130.4       | 9.8         | 11.5        | 139.9       |\n",
       "| 36 | genuine     | 214.6       | 130.2       | 130.2       | 9.4         |  9.7        | 141.8       |\n",
       "| 100 | genuine     | 214.7       | 130.0       | 129.4       | 7.8         | 10.0        | 141.2       |\n",
       "| 4 | genuine     | 214.8       | 129.7       | 129.6       | 7.5         | 10.4        | 142.0       |\n",
       "| 7 | genuine     | 215.5       | 129.5       | 129.7       | 7.9         |  9.6        | 141.6       |\n",
       "\n"
      ],
      "text/plain": [
       "    Status      Length Left  Right Bottom Top  Diagonal\n",
       "108 counterfeit 214.8  130.1 130.4 9.8    11.5 139.9   \n",
       "36  genuine     214.6  130.2 130.2 9.4     9.7 141.8   \n",
       "100 genuine     214.7  130.0 129.4 7.8    10.0 141.2   \n",
       "4   genuine     214.8  129.7 129.6 7.5    10.4 142.0   \n",
       "7   genuine     215.5  129.5 129.7 7.9     9.6 141.6   "
      ]
     },
     "metadata": {},
     "output_type": "display_data"
    }
   ],
   "source": [
    "banknote[sample.int(nrow(banknote), 5), ]"
   ]
  },
  {
   "cell_type": "code",
   "execution_count": 6,
   "id": "41fbd112",
   "metadata": {
    "ExecuteTime": {
     "end_time": "2022-04-05T22:07:07.478009Z",
     "start_time": "2022-04-05T22:07:07.440Z"
    },
    "vscode": {
     "languageId": "r"
    }
   },
   "outputs": [
    {
     "data": {
      "text/plain": [
       "         Status        Length           Left           Right      \n",
       " counterfeit:100   Min.   :213.8   Min.   :129.0   Min.   :129.0  \n",
       " genuine    :100   1st Qu.:214.6   1st Qu.:129.9   1st Qu.:129.7  \n",
       "                   Median :214.9   Median :130.2   Median :130.0  \n",
       "                   Mean   :214.9   Mean   :130.1   Mean   :130.0  \n",
       "                   3rd Qu.:215.1   3rd Qu.:130.4   3rd Qu.:130.2  \n",
       "                   Max.   :216.3   Max.   :131.0   Max.   :131.1  \n",
       "     Bottom            Top           Diagonal    \n",
       " Min.   : 7.200   Min.   : 7.70   Min.   :137.8  \n",
       " 1st Qu.: 8.200   1st Qu.:10.10   1st Qu.:139.5  \n",
       " Median : 9.100   Median :10.60   Median :140.4  \n",
       " Mean   : 9.418   Mean   :10.65   Mean   :140.5  \n",
       " 3rd Qu.:10.600   3rd Qu.:11.20   3rd Qu.:141.5  \n",
       " Max.   :12.700   Max.   :12.30   Max.   :142.4  "
      ]
     },
     "metadata": {},
     "output_type": "display_data"
    }
   ],
   "source": [
    "summary(banknote)"
   ]
  },
  {
   "cell_type": "markdown",
   "id": "9050a82c",
   "metadata": {},
   "source": [
    "Apply PCA with two Components to the data to obtain a two-dimensional representation of the Swiss banknotes."
   ]
  },
  {
   "cell_type": "code",
   "execution_count": 7,
   "id": "f9d60cd6",
   "metadata": {
    "ExecuteTime": {
     "end_time": "2022-04-05T22:07:08.118908Z",
     "start_time": "2022-04-05T22:07:08.071Z"
    },
    "vscode": {
     "languageId": "r"
    }
   },
   "outputs": [],
   "source": [
    "banknote_pca <- prcomp(banknote[,2:7], scale. = FALSE)"
   ]
  },
  {
   "cell_type": "code",
   "execution_count": 8,
   "id": "46b9c8b9",
   "metadata": {
    "ExecuteTime": {
     "end_time": "2022-04-05T22:07:08.352740Z",
     "start_time": "2022-04-05T22:07:08.323Z"
    },
    "vscode": {
     "languageId": "r"
    }
   },
   "outputs": [],
   "source": [
    "# first two for 2D\n",
    "pcs_banknote <- banknote_pca$x[,1:2]"
   ]
  },
  {
   "cell_type": "code",
   "execution_count": 9,
   "id": "e85b729c",
   "metadata": {
    "ExecuteTime": {
     "end_time": "2022-04-05T22:07:09.471664Z",
     "start_time": "2022-04-05T22:07:09.017Z"
    },
    "vscode": {
     "languageId": "r"
    }
   },
   "outputs": [
    {
     "data": {
      "image/png": "[encoded data removed]",
      "text/plain": [
       "plot without title"
      ]
     },
     "metadata": {},
     "output_type": "display_data"
    }
   ],
   "source": [
    "# Plot the pcs in 2D\n",
    "plot_data <- data.frame('PC1' = pcs_banknote[,1], 'PC2' = pcs_banknote[,2] , 'Status' = banknote$Status)\n",
    "ggplot(plot_data, aes(PC1, PC2, color=Status)) + \n",
    "geom_point() +\n",
    "theme_minimal() +\n",
    "labs(title = 'Scatterplot of first two PCs colored by their class')                                "
   ]
  },
  {
   "cell_type": "markdown",
   "id": "4b1b05e1",
   "metadata": {},
   "source": [
    "We can see that the dataset is well seperated in its first two principal componenents. Hence, it should be easy to cluster them."
   ]
  },
  {
   "cell_type": "markdown",
   "id": "4660d6fe",
   "metadata": {},
   "source": [
    "# Agglomerative Hierarchical Clustering\n",
    "\n",
    "Since Clustering is based on similarity measured e.g. by distance, we introduce functions to compute similarity of binary vectors."
   ]
  },
  {
   "cell_type": "code",
   "execution_count": 10,
   "id": "03b18c70",
   "metadata": {
    "vscode": {
     "languageId": "r"
    }
   },
   "outputs": [],
   "source": [
    "# functions for binary distances\n",
    "matching_coefficient <- function(x, y){\n",
    "    stopifnot(length(x) == length(y))\n",
    "\n",
    "    sum(x == y) / length(x)\n",
    "}\n",
    "\n",
    "similarity_coefficient <- function(x, y){\n",
    "    stopifnot(length(x) == length(y))\n",
    "\n",
    "    a11 <- sum(x * y)\n",
    "    a10 <- sum(x == 1 & y == 0)\n",
    "    a01 <- sum(x == 0 & y == 1)\n",
    "    a11 / (a11 + a10 + a01)\n",
    "}\n",
    "\n",
    "general_similarity_measurement <- function(x, y, alpha = 1, beta=1) {\n",
    "    a11 <- sum(x * y)\n",
    "    a00 <- sum(x + y == 0)\n",
    "    a10 <- sum(x == 1 & y == 0)\n",
    "    a01 <- sum(x == 0 & y == 1)\n",
    "\n",
    "    (a11 + alpha * a00) / (a11 + alpha * a00 + beta*(a10 + a01))\n",
    "}"
   ]
  },
  {
   "cell_type": "markdown",
   "id": "4a40cd9e",
   "metadata": {},
   "source": [
    "We test the binary measurements with two vectors where each case of match for a single digit is exactly contained once, i.e., for two vectors at position i the following cases can occur: both 0 (a00), both 1(a11), first 0 and second 1 (a01) or the other way around (a10)."
   ]
  },
  {
   "cell_type": "code",
   "execution_count": 11,
   "id": "52fa2103",
   "metadata": {
    "vscode": {
     "languageId": "r"
    }
   },
   "outputs": [
    {
     "data": {
      "text/html": [
       "0.5"
      ],
      "text/latex": [
       "0.5"
      ],
      "text/markdown": [
       "0.5"
      ],
      "text/plain": [
       "[1] 0.5"
      ]
     },
     "metadata": {},
     "output_type": "display_data"
    },
    {
     "data": {
      "text/html": [
       "0.333333333333333"
      ],
      "text/latex": [
       "0.333333333333333"
      ],
      "text/markdown": [
       "0.333333333333333"
      ],
      "text/plain": [
       "[1] 0.3333333"
      ]
     },
     "metadata": {},
     "output_type": "display_data"
    },
    {
     "data": {
      "text/html": [
       "0.5"
      ],
      "text/latex": [
       "0.5"
      ],
      "text/markdown": [
       "0.5"
      ],
      "text/plain": [
       "[1] 0.5"
      ]
     },
     "metadata": {},
     "output_type": "display_data"
    }
   ],
   "source": [
    "x <- c(1, 0, 0, 1)\n",
    "y <- c(1, 1, 0, 0)\n",
    "\n",
    "# distances\n",
    "matching_coefficient(x, y)\n",
    "similarity_coefficient(x,y)\n",
    "general_similarity_measurement(x,y)"
   ]
  },
  {
   "cell_type": "markdown",
   "id": "507389fa",
   "metadata": {},
   "source": [
    "Now, for the hierarchical clustering, we compute the euclidian distance on the first two principal components."
   ]
  },
  {
   "cell_type": "code",
   "execution_count": 12,
   "id": "4e025cb6",
   "metadata": {
    "ExecuteTime": {
     "end_time": "2022-04-05T22:07:09.591665Z",
     "start_time": "2022-04-05T22:07:09.567Z"
    },
    "vscode": {
     "languageId": "r"
    }
   },
   "outputs": [],
   "source": [
    "# compute the distance matrix\n",
    "dist_banknote <- dist(pcs_banknote)"
   ]
  },
  {
   "cell_type": "code",
   "execution_count": 13,
   "id": "363acb63",
   "metadata": {
    "ExecuteTime": {
     "end_time": "2022-04-05T22:07:09.860807Z",
     "start_time": "2022-04-05T22:07:09.823Z"
    },
    "vscode": {
     "languageId": "r"
    }
   },
   "outputs": [],
   "source": [
    "cl_single <- hclust(dist_banknote, method = 'single')\n",
    "cl_complete <- hclust(dist_banknote, method = 'complete')\n",
    "cl_mean <- hclust(dist_banknote, method = 'average')\n",
    "cl_ward <- hclust(dist_banknote, method = 'ward.D2')"
   ]
  },
  {
   "cell_type": "code",
   "execution_count": 14,
   "id": "c844971e",
   "metadata": {
    "ExecuteTime": {
     "end_time": "2022-04-05T22:07:10.861831Z",
     "start_time": "2022-04-05T22:07:10.133Z"
    },
    "vscode": {
     "languageId": "r"
    }
   },
   "outputs": [
    {
     "data": {
      "image/png": "[encoded data removed]",
      "text/plain": [
       "Plot with title \"Cluster Dendrogram\""
      ]
     },
     "metadata": {},
     "output_type": "display_data"
    }
   ],
   "source": [
    "par(mfrow = c(2,2))\n",
    "plot(cl_single)\n",
    "plot(cl_complete)\n",
    "plot(cl_mean)\n",
    "plot(cl_ward)"
   ]
  },
  {
   "cell_type": "code",
   "execution_count": 15,
   "id": "e4190f20",
   "metadata": {
    "ExecuteTime": {
     "end_time": "2022-04-05T22:07:11.452539Z",
     "start_time": "2022-04-05T22:07:10.440Z"
    },
    "vscode": {
     "languageId": "r"
    }
   },
   "outputs": [
    {
     "data": {
      "image/png": "[encoded data removed]",
      "text/plain": [
       "plot without title"
      ]
     },
     "metadata": {},
     "output_type": "display_data"
    }
   ],
   "source": [
    "# Now color the respective cluster\n",
    "par(mfrow = c(1,2))\n",
    "options(repr.plot.width = 7.5, repr.plot.height = 3.5)\n",
    "plot(color_branches(as.dendrogram(cl_single), k = 3, col= c('red','black',  'green')))\n",
    "plot(pcs_banknote, col = cutree(cl_single, k=3), pch = 16)"
   ]
  },
  {
   "cell_type": "code",
   "execution_count": 16,
   "id": "38e80373",
   "metadata": {
    "ExecuteTime": {
     "end_time": "2022-04-05T22:07:12.011711Z",
     "start_time": "2022-04-05T22:07:10.945Z"
    },
    "vscode": {
     "languageId": "r"
    }
   },
   "outputs": [
    {
     "data": {
      "image/png": "[encoded data removed]",
      "text/plain": [
       "plot without title"
      ]
     },
     "metadata": {},
     "output_type": "display_data"
    }
   ],
   "source": [
    "par(mfrow = c(1,2))\n",
    "options(repr.plot.width = 7.5, repr.plot.height = 3.5)\n",
    "plot(color_branches(as.dendrogram(cl_complete), k = 3, col= c('black', 'green','red')))\n",
    "plot(pcs_banknote, col = cutree(cl_complete, k=3), pch = 16)"
   ]
  },
  {
   "cell_type": "code",
   "execution_count": 17,
   "id": "2bfbc717",
   "metadata": {
    "ExecuteTime": {
     "end_time": "2022-04-05T22:07:12.598826Z",
     "start_time": "2022-04-05T22:07:11.313Z"
    },
    "vscode": {
     "languageId": "r"
    }
   },
   "outputs": [
    {
     "data": {
      "image/png": "[encoded data removed]",
      "text/plain": [
       "plot without title"
      ]
     },
     "metadata": {},
     "output_type": "display_data"
    }
   ],
   "source": [
    "par(mfrow = c(1,2))\n",
    "options(repr.plot.width = 7.5, repr.plot.height = 3.5)\n",
    "plot(color_branches(as.dendrogram(cl_mean), k = 4, col=c('green', 'blue', 'red', 'black')))\n",
    "plot(pcs_banknote, col = cutree(cl_mean, k=4), pch = 16)"
   ]
  },
  {
   "cell_type": "code",
   "execution_count": 18,
   "id": "8273126f",
   "metadata": {
    "ExecuteTime": {
     "end_time": "2022-04-05T22:07:13.202155Z",
     "start_time": "2022-04-05T22:07:11.705Z"
    },
    "vscode": {
     "languageId": "r"
    }
   },
   "outputs": [
    {
     "data": {
      "image/png": "[encoded data removed]",
      "text/plain": [
       "plot without title"
      ]
     },
     "metadata": {},
     "output_type": "display_data"
    }
   ],
   "source": [
    "par(mfrow = c(1,2))\n",
    "options(repr.plot.width = 7.5, repr.plot.height = 3.5)\n",
    "plot(color_branches(as.dendrogram(cl_ward), k = 2, col = c('red', 'black')))\n",
    "plot(pcs_banknote, col = cutree(cl_ward, k=2), pch = 16)"
   ]
  },
  {
   "cell_type": "markdown",
   "id": "1b32ff2d",
   "metadata": {},
   "source": [
    "In conclusion, we observe that the clustering with ward's method works best for our data."
   ]
  },
  {
   "cell_type": "markdown",
   "id": "2a20c30b",
   "metadata": {},
   "source": [
    "# K-Means\n",
    "\n",
    "In the following, we apply K-Means clustering to the Swiss banknote dataset. First on the full data and then on the first two principal components only."
   ]
  },
  {
   "cell_type": "code",
   "execution_count": 19,
   "id": "908addc7",
   "metadata": {
    "vscode": {
     "languageId": "r"
    }
   },
   "outputs": [
    {
     "data": {
      "text/plain": [
       "K-means clustering with 2 clusters of sizes 100, 100\n",
       "\n",
       "Cluster means:\n",
       "   Length    Left   Right Bottom    Top Diagonal\n",
       "1 214.823 130.300 130.193 10.530 11.133  139.450\n",
       "2 214.969 129.943 129.720  8.305 10.168  141.517\n",
       "\n",
       "Clustering vector:\n",
       "  [1] 2 2 2 2 2 2 2 2 2 2 2 2 2 2 2 2 2 2 2 2 2 2 2 2 2 2 2 2 2 2 2 2 2 2 2 2 2\n",
       " [38] 2 2 2 2 2 2 2 2 2 2 2 2 2 2 2 2 2 2 2 2 2 2 2 2 2 2 2 2 2 2 2 2 2 2 2 2 2\n",
       " [75] 2 2 2 2 2 2 2 2 2 2 2 2 2 2 2 2 2 2 2 2 2 2 2 2 2 2 1 1 1 1 1 1 1 1 1 1 1\n",
       "[112] 1 1 1 1 1 1 1 1 1 1 1 1 1 1 1 1 1 1 1 1 1 1 1 1 1 1 1 1 1 1 1 1 1 1 1 1 1\n",
       "[149] 1 1 1 1 1 1 1 1 1 1 1 1 1 1 1 1 1 1 1 1 1 1 1 1 1 1 1 1 1 1 1 1 1 1 1 1 1\n",
       "[186] 1 1 1 1 1 1 1 1 1 1 1 1 1 1 1\n",
       "\n",
       "Within cluster sum of squares by cluster:\n",
       "[1] 225.2233 142.8852\n",
       " (between_SS / total_SS =  58.8 %)\n",
       "\n",
       "Available components:\n",
       "\n",
       "[1] \"cluster\"      \"centers\"      \"totss\"        \"withinss\"     \"tot.withinss\"\n",
       "[6] \"betweenss\"    \"size\"         \"iter\"         \"ifault\"      "
      ]
     },
     "metadata": {},
     "output_type": "display_data"
    }
   ],
   "source": [
    "set.seed(2022)\n",
    "(kmeans_swiss <- kmeans(banknote[, -1], centers = 2, iter.max = 100, nstart = 1, algorithm = \"Lloyd\"))"
   ]
  },
  {
   "cell_type": "code",
   "execution_count": 20,
   "id": "781ba728",
   "metadata": {
    "vscode": {
     "languageId": "r"
    }
   },
   "outputs": [
    {
     "data": {
      "image/png": "[encoded data removed]",
      "text/plain": [
       "plot without title"
      ]
     },
     "metadata": {},
     "output_type": "display_data"
    }
   ],
   "source": [
    "options(repr.plot.width = 10.5, repr.plot.height = 5.5)\n",
    "pairs(banknote[, -1], col=kmeans_swiss$cluster, pch=16)"
   ]
  },
  {
   "cell_type": "code",
   "execution_count": 21,
   "id": "775be238",
   "metadata": {
    "vscode": {
     "languageId": "r"
    }
   },
   "outputs": [
    {
     "data": {
      "text/html": [
       "1"
      ],
      "text/latex": [
       "1"
      ],
      "text/markdown": [
       "1"
      ],
      "text/plain": [
       "[1] 1"
      ]
     },
     "metadata": {},
     "output_type": "display_data"
    }
   ],
   "source": [
    "# Accuracy\n",
    "sum(diag(table(kmeans_swiss$cluster, banknote[, 1]))) / length(banknote[,1])"
   ]
  },
  {
   "cell_type": "code",
   "execution_count": 22,
   "id": "1dfa6392",
   "metadata": {
    "vscode": {
     "languageId": "r"
    }
   },
   "outputs": [
    {
     "data": {
      "text/plain": [
       "Confusion Matrix and Statistics\n",
       "\n",
       "             Reference\n",
       "Prediction    counterfeit genuine\n",
       "  counterfeit         100       0\n",
       "  genuine               0     100\n",
       "                                     \n",
       "               Accuracy : 1          \n",
       "                 95% CI : (0.9817, 1)\n",
       "    No Information Rate : 0.5        \n",
       "    P-Value [Acc > NIR] : < 2.2e-16  \n",
       "                                     \n",
       "                  Kappa : 1          \n",
       "                                     \n",
       " Mcnemar's Test P-Value : NA         \n",
       "                                     \n",
       "            Sensitivity : 1.0        \n",
       "            Specificity : 1.0        \n",
       "         Pos Pred Value : 1.0        \n",
       "         Neg Pred Value : 1.0        \n",
       "             Prevalence : 0.5        \n",
       "         Detection Rate : 0.5        \n",
       "   Detection Prevalence : 0.5        \n",
       "      Balanced Accuracy : 1.0        \n",
       "                                     \n",
       "       'Positive' Class : counterfeit\n",
       "                                     "
      ]
     },
     "metadata": {},
     "output_type": "display_data"
    }
   ],
   "source": [
    "confusionMatrix(as.factor(ifelse(kmeans_swiss$cluster == 1, 'counterfeit', 'genuine')), banknote[,1])"
   ]
  },
  {
   "cell_type": "code",
   "execution_count": 23,
   "id": "5940f918",
   "metadata": {
    "vscode": {
     "languageId": "r"
    }
   },
   "outputs": [
    {
     "data": {
      "text/plain": [
       "K-means clustering with 2 clusters of sizes 100, 100\n",
       "\n",
       "Cluster means:\n",
       "        PC1        PC2\n",
       "1 -1.606522 -0.2242454\n",
       "2  1.606522  0.2242454\n",
       "\n",
       "Clustering vector:\n",
       "  [1] 2 2 2 2 2 2 2 2 2 2 2 2 2 2 2 2 2 2 2 2 2 2 2 2 2 2 2 2 2 2 2 2 2 2 2 2 2\n",
       " [38] 2 2 2 2 2 2 2 2 2 2 2 2 2 2 2 2 2 2 2 2 2 2 2 2 2 2 2 2 2 2 2 2 2 2 2 2 2\n",
       " [75] 2 2 2 2 2 2 2 2 2 2 2 2 2 2 2 2 2 2 2 2 2 2 2 2 2 2 1 1 1 1 1 1 1 1 1 1 1\n",
       "[112] 1 1 1 1 1 1 1 1 1 1 1 1 1 1 1 1 1 1 1 1 1 1 1 1 1 1 1 1 1 1 1 1 1 1 1 1 1\n",
       "[149] 1 1 1 1 1 1 1 1 1 1 1 1 1 1 1 1 1 1 1 1 1 1 1 1 1 1 1 1 1 1 1 1 1 1 1 1 1\n",
       "[186] 1 1 1 1 1 1 1 1 1 1 1 1 1 1 1\n",
       "\n",
       "Within cluster sum of squares by cluster:\n",
       "[1] 166.71184  90.29782\n",
       " (between_SS / total_SS =  67.2 %)\n",
       "\n",
       "Available components:\n",
       "\n",
       "[1] \"cluster\"      \"centers\"      \"totss\"        \"withinss\"     \"tot.withinss\"\n",
       "[6] \"betweenss\"    \"size\"         \"iter\"         \"ifault\"      "
      ]
     },
     "metadata": {},
     "output_type": "display_data"
    }
   ],
   "source": [
    "# Repeat for only first two principal diagnoses\n",
    "set.seed(2022)\n",
    "(kmeans_swiss <- kmeans(pcs_banknote, centers = 2, iter.max = 100, nstart = 100, algorithm = \"Lloyd\"))"
   ]
  },
  {
   "cell_type": "code",
   "execution_count": 24,
   "id": "5cfb9710",
   "metadata": {
    "vscode": {
     "languageId": "r"
    }
   },
   "outputs": [
    {
     "data": {
      "image/png": "[encoded data removed]",
      "text/plain": [
       "plot without title"
      ]
     },
     "metadata": {},
     "output_type": "display_data"
    }
   ],
   "source": [
    "plot(pcs_banknote, col= as.factor(kmeans_swiss$cluster), pch=16)"
   ]
  },
  {
   "cell_type": "code",
   "execution_count": 25,
   "id": "88c66207",
   "metadata": {
    "vscode": {
     "languageId": "r"
    }
   },
   "outputs": [
    {
     "data": {
      "text/plain": [
       "Confusion Matrix and Statistics\n",
       "\n",
       "             Reference\n",
       "Prediction    counterfeit genuine\n",
       "  counterfeit         100       0\n",
       "  genuine               0     100\n",
       "                                     \n",
       "               Accuracy : 1          \n",
       "                 95% CI : (0.9817, 1)\n",
       "    No Information Rate : 0.5        \n",
       "    P-Value [Acc > NIR] : < 2.2e-16  \n",
       "                                     \n",
       "                  Kappa : 1          \n",
       "                                     \n",
       " Mcnemar's Test P-Value : NA         \n",
       "                                     \n",
       "            Sensitivity : 1.0        \n",
       "            Specificity : 1.0        \n",
       "         Pos Pred Value : 1.0        \n",
       "         Neg Pred Value : 1.0        \n",
       "             Prevalence : 0.5        \n",
       "         Detection Rate : 0.5        \n",
       "   Detection Prevalence : 0.5        \n",
       "      Balanced Accuracy : 1.0        \n",
       "                                     \n",
       "       'Positive' Class : counterfeit\n",
       "                                     "
      ]
     },
     "metadata": {},
     "output_type": "display_data"
    }
   ],
   "source": [
    "confusionMatrix(as.factor(ifelse(kmeans_swiss$cluster == 1, 'counterfeit', 'genuine')), banknote[,1])"
   ]
  },
  {
   "cell_type": "markdown",
   "id": "82f94750",
   "metadata": {},
   "source": [
    "For this dataset, K-Means works well on the whole data as well as the first two principal components, since it works well if the cluster are spherical which is the case for the Swiss banknote dataset."
   ]
  },
  {
   "cell_type": "markdown",
   "id": "d1d3379f",
   "metadata": {},
   "source": [
    "# Mixture Models and the Expectation Maximization Algorithm\n",
    "\n",
    "First we will see how K-Means fails on the IRIS dataset, because the three clusters are not clearly distinguishable. Since the EM algorithm leverages an assumption about the data distribution it is able to better distinguish the clusters in IRIS. We assume the specieses to be normal distributed for the standart EM algorithm."
   ]
  },
  {
   "cell_type": "code",
   "execution_count": 26,
   "id": "c6eb902d",
   "metadata": {
    "vscode": {
     "languageId": "r"
    }
   },
   "outputs": [],
   "source": [
    "data(iris)"
   ]
  },
  {
   "cell_type": "code",
   "execution_count": 27,
   "id": "f203a2ef",
   "metadata": {
    "vscode": {
     "languageId": "r"
    }
   },
   "outputs": [],
   "source": [
    "set.seed(33)\n",
    "kmeans_iris <- kmeans(iris[, 1:4], centers = 3, iter.max = 10, nstart = 100)\n",
    "em_iris <- Mclust(iris[, 1:4], G=3)"
   ]
  },
  {
   "cell_type": "code",
   "execution_count": 28,
   "id": "20f9cdb2",
   "metadata": {
    "vscode": {
     "languageId": "r"
    }
   },
   "outputs": [
    {
     "data": {
      "text/plain": [
       "   \n",
       "    setosa versicolor virginica\n",
       "  1     50          0         0\n",
       "  2      0         48        14\n",
       "  3      0          2        36"
      ]
     },
     "metadata": {},
     "output_type": "display_data"
    }
   ],
   "source": [
    "(kmeans_ct <- table(kmeans_iris$cluster, iris$Species))"
   ]
  },
  {
   "cell_type": "code",
   "execution_count": 29,
   "id": "ce9bfb95",
   "metadata": {
    "vscode": {
     "languageId": "r"
    }
   },
   "outputs": [
    {
     "data": {
      "text/html": [
       "0.893333333333333"
      ],
      "text/latex": [
       "0.893333333333333"
      ],
      "text/markdown": [
       "0.893333333333333"
      ],
      "text/plain": [
       "[1] 0.8933333"
      ]
     },
     "metadata": {},
     "output_type": "display_data"
    }
   ],
   "source": [
    "# Accuracy of kmeans on Iris\n",
    "sum(diag(kmeans_ct)) / length(iris$Species)"
   ]
  },
  {
   "cell_type": "code",
   "execution_count": 30,
   "id": "1d334533",
   "metadata": {
    "vscode": {
     "languageId": "r"
    }
   },
   "outputs": [
    {
     "data": {
      "text/plain": [
       "   \n",
       "    setosa versicolor virginica\n",
       "  1     50          0         0\n",
       "  2      0         45         0\n",
       "  3      0          5        50"
      ]
     },
     "metadata": {},
     "output_type": "display_data"
    }
   ],
   "source": [
    "(em_ct <- table(em_iris$classification, iris$Species))"
   ]
  },
  {
   "cell_type": "code",
   "execution_count": 31,
   "id": "ea16a627",
   "metadata": {
    "vscode": {
     "languageId": "r"
    }
   },
   "outputs": [
    {
     "data": {
      "text/html": [
       "0.966666666666667"
      ],
      "text/latex": [
       "0.966666666666667"
      ],
      "text/markdown": [
       "0.966666666666667"
      ],
      "text/plain": [
       "[1] 0.9666667"
      ]
     },
     "metadata": {},
     "output_type": "display_data"
    }
   ],
   "source": [
    "sum(diag(em_ct)) / length(iris$Species) # Much better than Kmeans"
   ]
  },
  {
   "cell_type": "code",
   "execution_count": 32,
   "id": "622e39a8",
   "metadata": {
    "vscode": {
     "languageId": "r"
    }
   },
   "outputs": [
    {
     "data": {
      "image/png": "[encoded data removed]",
      "text/plain": [
       "Plot with title \"EM\""
      ]
     },
     "metadata": {},
     "output_type": "display_data"
    }
   ],
   "source": [
    "# visual comparison\n",
    "par(mfrow = c(1,3))\n",
    "options(repr.plot.width = 10.5, repr.plot.height = 3.5)\n",
    "plot(iris[, 1:2], col=kmeans_iris$cluster, pch=16, main='K-Means')\n",
    "plot(iris[, 1:2], col=iris$Species, pch=16, main='Ground Truth')\n",
    "plot(iris[, 1:2], col=em_iris$classification, pch=16, main='EM')"
   ]
  },
  {
   "cell_type": "markdown",
   "id": "b3d8c8ed",
   "metadata": {},
   "source": [
    "On the Iris dataset, a gaussian mixture model is better than K-Means, since two clusters are not differential by a sphere. Now we show how we can use the EM algorithm to assign new data to a known cluster and how to sample from the gaussian mixture model."
   ]
  },
  {
   "cell_type": "code",
   "execution_count": 33,
   "id": "8f0c2e23",
   "metadata": {
    "vscode": {
     "languageId": "r"
    }
   },
   "outputs": [],
   "source": [
    "new_iris <- c(5.5, 2.1, 4.0, 0.8)"
   ]
  },
  {
   "cell_type": "code",
   "execution_count": 34,
   "id": "c8bef75b",
   "metadata": {
    "vscode": {
     "languageId": "r"
    }
   },
   "outputs": [],
   "source": [
    "# extract the parameters from the EM\n",
    "prior_probabilities <- em_iris$parameters$pro\n",
    "cluster_means <- em_iris$parameters$mean\n",
    "cluster_variances <- em_iris$parameters$variance$sigma"
   ]
  },
  {
   "cell_type": "code",
   "execution_count": 35,
   "id": "9bd320db",
   "metadata": {
    "vscode": {
     "languageId": "r"
    }
   },
   "outputs": [
    {
     "data": {
      "text/html": [
       "<ol class=list-inline>\n",
       "\t<li>1.64875519811284e-56</li>\n",
       "\t<li>0.951097265442772</li>\n",
       "\t<li>0.0489027345572276</li>\n",
       "</ol>\n"
      ],
      "text/latex": [
       "\\begin{enumerate*}\n",
       "\\item 1.64875519811284e-56\n",
       "\\item 0.951097265442772\n",
       "\\item 0.0489027345572276\n",
       "\\end{enumerate*}\n"
      ],
      "text/markdown": [
       "1. 1.64875519811284e-56\n",
       "2. 0.951097265442772\n",
       "3. 0.0489027345572276\n",
       "\n",
       "\n"
      ],
      "text/plain": [
       "[1] 1.648755e-56 9.510973e-01 4.890273e-02"
      ]
     },
     "metadata": {},
     "output_type": "display_data"
    }
   ],
   "source": [
    "# Compute the posterior probability\n",
    "cluster_probability <- numeric(3)\n",
    "for (i in 1:3) {\n",
    "  cluster_probability[i] <- prior_probabilities[i] * dmvnorm(new_iris, mean = cluster_means[, i], sigma =\n",
    "    cluster_variances[, , i])\n",
    "}\n",
    "cluster_probability / sum(cluster_probability)"
   ]
  },
  {
   "cell_type": "code",
   "execution_count": 36,
   "id": "6e0e358c",
   "metadata": {
    "vscode": {
     "languageId": "r"
    }
   },
   "outputs": [
    {
     "data": {
      "text/html": [
       "<dl>\n",
       "\t<dt>$classification</dt>\n",
       "\t\t<dd>2</dd>\n",
       "\t<dt>$z</dt>\n",
       "\t\t<dd><table>\n",
       "<thead><tr><th scope=col>1</th><th scope=col>2</th><th scope=col>3</th></tr></thead>\n",
       "<tbody>\n",
       "\t<tr><td>1.648755e-56</td><td>0.9510973   </td><td>0.04890273  </td></tr>\n",
       "</tbody>\n",
       "</table>\n",
       "</dd>\n",
       "</dl>\n"
      ],
      "text/latex": [
       "\\begin{description}\n",
       "\\item[\\$classification] 2\n",
       "\\item[\\$z] \\begin{tabular}{lll}\n",
       " 1 & 2 & 3\\\\\n",
       "\\hline\n",
       "\t 1.648755e-56 & 0.9510973    & 0.04890273  \\\\\n",
       "\\end{tabular}\n",
       "\n",
       "\\end{description}\n"
      ],
      "text/markdown": [
       "$classification\n",
       ":   2\n",
       "$z\n",
       ":   \n",
       "| 1 | 2 | 3 |\n",
       "|---|---|---|\n",
       "| 1.648755e-56 | 0.9510973    | 0.04890273   |\n",
       "\n",
       "\n",
       "\n",
       "\n"
      ],
      "text/plain": [
       "$classification\n",
       "[1] 2\n",
       "\n",
       "$z\n",
       "                1         2          3\n",
       "[1,] 1.648755e-56 0.9510973 0.04890273\n"
      ]
     },
     "metadata": {},
     "output_type": "display_data"
    }
   ],
   "source": [
    "# alternatively\n",
    "predict.Mclust(em_iris, data.frame(X1= new_iris[1], X2= new_iris[2], X3= new_iris[3], X4=new_iris[4]))"
   ]
  },
  {
   "cell_type": "markdown",
   "id": "5125249d",
   "metadata": {},
   "source": [
    "Since the probability for the second EM cluster is the highest we would assign the new observation to the second cluster which corresponds to assuming the species to be \"versicolor\". Now, we can use the  parameters to sample a set with the same distribution than iris."
   ]
  },
  {
   "cell_type": "code",
   "execution_count": 37,
   "id": "4fbaa2d6",
   "metadata": {
    "vscode": {
     "languageId": "r"
    }
   },
   "outputs": [],
   "source": [
    "set.seed(2022)\n",
    "# sample first the species from the cluster priors\n",
    "sample_species <- sample(1:3, size = 150, replace = TRUE, prob = prior_probabilities)"
   ]
  },
  {
   "cell_type": "markdown",
   "id": "75246cf2",
   "metadata": {},
   "source": [
    "## Sampling"
   ]
  },
  {
   "cell_type": "code",
   "execution_count": 38,
   "id": "4611aaf1",
   "metadata": {
    "vscode": {
     "languageId": "r"
    }
   },
   "outputs": [],
   "source": [
    "# Now draw random datapoints from the respective cluster\n",
    "sampled_iris <- sapply(sample_species, function(species){\n",
    "    rmvnorm(1, mean = cluster_means[, species], sigma =\n",
    "    cluster_variances[, , species])\n",
    "})\n",
    "sampled_iris <- t(sampled_iris)"
   ]
  },
  {
   "cell_type": "code",
   "execution_count": 39,
   "id": "048b7664",
   "metadata": {
    "vscode": {
     "languageId": "r"
    }
   },
   "outputs": [
    {
     "data": {
      "image/png": "[encoded data removed]",
      "text/plain": [
       "Plot with title \"Sampled Iris from EM model\""
      ]
     },
     "metadata": {},
     "output_type": "display_data"
    }
   ],
   "source": [
    "# show the sampled dataset\n",
    "options(repr.plot.width = 6.5, repr.plot.height = 4.5)\n",
    "plot(sampled_iris[, 1:2], col = sample_species, pch = 16,\n",
    "xlab=\"Sepal Length\", ylab='Sepal Width' ,main = \"Sampled Iris from EM model\")"
   ]
  },
  {
   "cell_type": "markdown",
   "id": "b8d14ad9",
   "metadata": {},
   "source": [
    "## Bernoulli Mixture Models\n",
    "\n",
    "Finally, we will apply a bernoilli mixture model to a subset of the MNIST dataset. We start by preparing the data."
   ]
  },
  {
   "cell_type": "code",
   "execution_count": 51,
   "id": "d7bafbbe",
   "metadata": {
    "vscode": {
     "languageId": "r"
    }
   },
   "outputs": [],
   "source": [
    "data(digits)"
   ]
  },
  {
   "cell_type": "code",
   "execution_count": 52,
   "id": "f0692460",
   "metadata": {
    "vscode": {
     "languageId": "r"
    }
   },
   "outputs": [],
   "source": [
    "mnist_labels <- digits[, 1]\n",
    "mnist <- digits[, -1]"
   ]
  },
  {
   "cell_type": "code",
   "execution_count": 53,
   "id": "40aa8c69",
   "metadata": {
    "vscode": {
     "languageId": "r"
    }
   },
   "outputs": [],
   "source": [
    "# function for plotting\n",
    "plot_digit <- function(row){\n",
    "    digit <- matrix(row, nrow=28, ncol=28)\n",
    "    digit[digit > 0 ] <- 1\n",
    "    image(digit, col=gray(255:0 / 255))\n",
    "}"
   ]
  },
  {
   "cell_type": "code",
   "execution_count": 54,
   "id": "711632c9",
   "metadata": {
    "vscode": {
     "languageId": "r"
    }
   },
   "outputs": [
    {
     "data": {
      "image/png": "[encoded data removed]",
      "text/plain": [
       "plot without title"
      ]
     },
     "metadata": {},
     "output_type": "display_data"
    }
   ],
   "source": [
    "plot_digit(mnist[1,])"
   ]
  },
  {
   "cell_type": "markdown",
   "id": "5b070830",
   "metadata": {},
   "source": [
    "## Compute the binomial model using the Expectation Maximization Algorithm"
   ]
  },
  {
   "cell_type": "code",
   "execution_count": 55,
   "id": "6b29a4df",
   "metadata": {
    "vscode": {
     "languageId": "r"
    }
   },
   "outputs": [],
   "source": [
    "new_digit <- mnist[3500, ] #test case for subsequent demonstration of prediction\n",
    "mnist <- mnist[-3500,]"
   ]
  },
  {
   "cell_type": "code",
   "execution_count": 56,
   "id": "2c808ca2",
   "metadata": {
    "vscode": {
     "languageId": "r"
    }
   },
   "outputs": [],
   "source": [
    "# EM for binomial mixture model\n",
    "number_cluster <- 4\n",
    "set.seed(2022)\n",
    "binomial_em <- flexmix(as.matrix(mnist)~1, k = number_cluster, model=FLXMCmvbinary(), control=list(iter =100))"
   ]
  },
  {
   "cell_type": "code",
   "execution_count": 57,
   "id": "cdeff90b",
   "metadata": {
    "vscode": {
     "languageId": "r"
    }
   },
   "outputs": [
    {
     "data": {
      "text/plain": [
       "\n",
       "Call:\n",
       "flexmix(formula = as.matrix(mnist) ~ 1, k = number_cluster, model = FLXMCmvbinary(), \n",
       "    control = list(iter = 100))\n",
       "\n",
       "Cluster sizes:\n",
       "   1    2    3    4 \n",
       "3087 3371 2710 2831 \n",
       "\n",
       "convergence after 57 iterations"
      ]
     },
     "metadata": {},
     "output_type": "display_data"
    }
   ],
   "source": [
    "binomial_em"
   ]
  },
  {
   "cell_type": "code",
   "execution_count": 58,
   "id": "c487280a",
   "metadata": {
    "vscode": {
     "languageId": "r"
    }
   },
   "outputs": [
    {
     "data": {
      "image/png": "[encoded data removed]",
      "text/plain": [
       "plot without title"
      ]
     },
     "metadata": {},
     "output_type": "display_data"
    }
   ],
   "source": [
    "cluster_parameters <- parameters(binomial_em)\n",
    "df <- data.frame( PixelCol = as.vector(cluster_parameters), Cluster = rep(1:number_cluster, each = 784),\n",
    "X = rep(rep(1:28, 28),number_cluster), Y = rep(rep(28:1, each = 28), number_cluster))\n",
    "\n",
    "# We show the cluster that the model estimated\n",
    "ggplot(df, aes( x= X, y = Y, fill = PixelCol))+\n",
    "geom_tile()+\n",
    "scale_fill_gradient(low = \"white\", high = \"black\")+\n",
    "facet_wrap(~ Cluster)"
   ]
  },
  {
   "cell_type": "markdown",
   "id": "f8be8e72",
   "metadata": {},
   "source": [
    "## Classify and Sample New Data"
   ]
  },
  {
   "cell_type": "code",
   "execution_count": 59,
   "id": "9f870737",
   "metadata": {
    "vscode": {
     "languageId": "r"
    }
   },
   "outputs": [
    {
     "data": {
      "image/png": "[encoded data removed]",
      "text/plain": [
       "plot without title"
      ]
     },
     "metadata": {},
     "output_type": "display_data"
    }
   ],
   "source": [
    "# now classify the new data\n",
    "plot_digit(new_digit)"
   ]
  },
  {
   "cell_type": "code",
   "execution_count": 60,
   "id": "e305db04",
   "metadata": {
    "vscode": {
     "languageId": "r"
    }
   },
   "outputs": [
    {
     "data": {
      "text/html": [
       "4"
      ],
      "text/latex": [
       "4"
      ],
      "text/markdown": [
       "4"
      ],
      "text/plain": [
       "[1] 4"
      ]
     },
     "metadata": {},
     "output_type": "display_data"
    }
   ],
   "source": [
    " # compute the posterior probabilities for each cluster\n",
    "cluster_probabilities <- numeric(4)\n",
    "for (j in 1:4) {\n",
    "  cluster_probabilities[j] <- mean(prior(binomial_em)[j] * dbinom(new_digit, 784, parameters(binomial_em)[, j]))\n",
    "}\n",
    "which.max(cluster_probabilities / sum(cluster_probabilities)) "
   ]
  },
  {
   "cell_type": "markdown",
   "id": "911a00f1",
   "metadata": {},
   "source": [
    "We would assign the new datapoint to the fourth cluster which represents the number 1. Indeed, this is the correct cluster, however, this does not wor in general. Below, we calculate the accuracy for the estimated clusters that the binomial mixture model assigned the datapoints from mnist to."
   ]
  },
  {
   "cell_type": "code",
   "execution_count": 61,
   "id": "b103bb80",
   "metadata": {
    "vscode": {
     "languageId": "r"
    }
   },
   "outputs": [
    {
     "data": {
      "text/plain": [
       "   estimated_cluster\n",
       "       0    1    2    3\n",
       "  0 2623    2  212  163\n",
       "  1    0 2758  124  117\n",
       "  2   33   26 2390  551\n",
       "  3   54   45  645 2256"
      ]
     },
     "metadata": {},
     "output_type": "display_data"
    },
    {
     "data": {
      "text/html": [
       "0.835652971080923"
      ],
      "text/latex": [
       "0.835652971080923"
      ],
      "text/markdown": [
       "0.835652971080923"
      ],
      "text/plain": [
       "[1] 0.835653"
      ]
     },
     "metadata": {},
     "output_type": "display_data"
    }
   ],
   "source": [
    "estimated_cluster <- binomial_em@cluster\n",
    "# relabeling\n",
    "estimated_cluster[estimated_cluster == 3] <- 0\n",
    "estimated_cluster[estimated_cluster == 1] <- 3\n",
    "estimated_cluster[estimated_cluster == 4] <- 1\n",
    "\n",
    "(ct <- table(mnist_labels[-3500], estimated_cluster))\n",
    "sum(diag(ct)) / length(mnist_labels[-3500])"
   ]
  },
  {
   "cell_type": "markdown",
   "id": "1903ad8a",
   "metadata": {},
   "source": [
    "Accuracy is ~83% which is not too bad. With the model at hand, we are also able to sample new observations from the clusters. Below, this is demonstrated by sampling from cluster three, hence a zero."
   ]
  },
  {
   "cell_type": "code",
   "execution_count": 62,
   "id": "eceb128a",
   "metadata": {
    "vscode": {
     "languageId": "r"
    }
   },
   "outputs": [],
   "source": [
    "set.seed(2022)\n",
    "sample_zero <- rbinom(784, 1, parameters(binomial_em)[,3])\n"
   ]
  },
  {
   "cell_type": "code",
   "execution_count": 63,
   "id": "d70be7f4",
   "metadata": {
    "vscode": {
     "languageId": "r"
    }
   },
   "outputs": [
    {
     "data": {
      "image/png": "[encoded data removed]",
      "text/plain": [
       "plot without title"
      ]
     },
     "metadata": {},
     "output_type": "display_data"
    }
   ],
   "source": [
    "plot_digit(sample_zero)"
   ]
  }
 ],
 "metadata": {
  "interpreter": {
   "hash": "0cc0b4ee1efb9348ba5acfb80d82942abcce721886ae024ab5ed8cb5988ffbc3"
  },
  "kernelspec": {
   "display_name": "R",
   "language": "R",
   "name": "ir"
  },
  "language_info": {
   "codemirror_mode": "r",
   "file_extension": ".r",
   "mimetype": "text/x-r-source",
   "name": "R",
   "pygments_lexer": "r",
   "version": "3.6.1"
  },
  "toc": {
   "base_numbering": 1,
   "nav_menu": {},
   "number_sections": true,
   "sideBar": true,
   "skip_h1_title": false,
   "title_cell": "Table of Contents",
   "title_sidebar": "Contents",
   "toc_cell": false,
   "toc_position": {},
   "toc_section_display": true,
   "toc_window_display": false
  }
 },
 "nbformat": 4,
 "nbformat_minor": 5
}
