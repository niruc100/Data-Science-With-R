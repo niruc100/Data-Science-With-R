{
 "cells": [
  {
   "cell_type": "markdown",
   "id": "882e45cd",
   "metadata": {},
   "source": [
    "# Prepare The Data"
   ]
  },
  {
   "cell_type": "code",
   "execution_count": 108,
   "id": "106e7ca7",
   "metadata": {
    "ExecuteTime": {
     "end_time": "2022-04-05T22:07:06.758804Z",
     "start_time": "2022-04-05T22:07:05.672Z"
    },
    "vscode": {
     "languageId": "r"
    }
   },
   "outputs": [
    {
     "name": "stderr",
     "output_type": "stream",
     "text": [
      "\n",
      "Attaching package: 'mvtnorm'\n",
      "\n",
      "The following object is masked from 'package:mclust':\n",
      "\n",
      "    dmvnorm\n",
      "\n"
     ]
    }
   ],
   "source": [
    "library(mclust)\n",
    "library(ggplot2)\n",
    "suppressPackageStartupMessages(library(dendextend))\n",
    "library(caret)\n",
    "library(mvtnorm)"
   ]
  },
  {
   "cell_type": "code",
   "execution_count": 2,
   "id": "e35f195e",
   "metadata": {
    "ExecuteTime": {
     "end_time": "2022-04-05T22:07:06.829980Z",
     "start_time": "2022-04-05T22:07:06.318Z"
    },
    "vscode": {
     "languageId": "r"
    }
   },
   "outputs": [],
   "source": [
    "data(banknote)"
   ]
  },
  {
   "cell_type": "code",
   "execution_count": 3,
   "id": "8bb3f655",
   "metadata": {
    "ExecuteTime": {
     "end_time": "2022-04-05T22:07:06.916216Z",
     "start_time": "2022-04-05T22:07:06.867Z"
    },
    "vscode": {
     "languageId": "r"
    }
   },
   "outputs": [
    {
     "data": {
      "text/html": [
       "<table>\n",
       "<thead><tr><th scope=col>Status</th><th scope=col>Length</th><th scope=col>Left</th><th scope=col>Right</th><th scope=col>Bottom</th><th scope=col>Top</th><th scope=col>Diagonal</th></tr></thead>\n",
       "<tbody>\n",
       "\t<tr><td>genuine</td><td>214.8  </td><td>131.0  </td><td>131.1  </td><td> 9.0   </td><td> 9.7   </td><td>141.0  </td></tr>\n",
       "\t<tr><td>genuine</td><td>214.6  </td><td>129.7  </td><td>129.7  </td><td> 8.1   </td><td> 9.5   </td><td>141.7  </td></tr>\n",
       "\t<tr><td>genuine</td><td>214.8  </td><td>129.7  </td><td>129.7  </td><td> 8.7   </td><td> 9.6   </td><td>142.2  </td></tr>\n",
       "\t<tr><td>genuine</td><td>214.8  </td><td>129.7  </td><td>129.6  </td><td> 7.5   </td><td>10.4   </td><td>142.0  </td></tr>\n",
       "\t<tr><td>genuine</td><td>215.0  </td><td>129.6  </td><td>129.7  </td><td>10.4   </td><td> 7.7   </td><td>141.8  </td></tr>\n",
       "\t<tr><td>genuine</td><td>215.7  </td><td>130.8  </td><td>130.5  </td><td> 9.0   </td><td>10.1   </td><td>141.4  </td></tr>\n",
       "</tbody>\n",
       "</table>\n"
      ],
      "text/latex": [
       "\\begin{tabular}{r|lllllll}\n",
       " Status & Length & Left & Right & Bottom & Top & Diagonal\\\\\n",
       "\\hline\n",
       "\t genuine & 214.8   & 131.0   & 131.1   &  9.0    &  9.7    & 141.0  \\\\\n",
       "\t genuine & 214.6   & 129.7   & 129.7   &  8.1    &  9.5    & 141.7  \\\\\n",
       "\t genuine & 214.8   & 129.7   & 129.7   &  8.7    &  9.6    & 142.2  \\\\\n",
       "\t genuine & 214.8   & 129.7   & 129.6   &  7.5    & 10.4    & 142.0  \\\\\n",
       "\t genuine & 215.0   & 129.6   & 129.7   & 10.4    &  7.7    & 141.8  \\\\\n",
       "\t genuine & 215.7   & 130.8   & 130.5   &  9.0    & 10.1    & 141.4  \\\\\n",
       "\\end{tabular}\n"
      ],
      "text/markdown": [
       "\n",
       "| Status | Length | Left | Right | Bottom | Top | Diagonal |\n",
       "|---|---|---|---|---|---|---|\n",
       "| genuine | 214.8   | 131.0   | 131.1   |  9.0    |  9.7    | 141.0   |\n",
       "| genuine | 214.6   | 129.7   | 129.7   |  8.1    |  9.5    | 141.7   |\n",
       "| genuine | 214.8   | 129.7   | 129.7   |  8.7    |  9.6    | 142.2   |\n",
       "| genuine | 214.8   | 129.7   | 129.6   |  7.5    | 10.4    | 142.0   |\n",
       "| genuine | 215.0   | 129.6   | 129.7   | 10.4    |  7.7    | 141.8   |\n",
       "| genuine | 215.7   | 130.8   | 130.5   |  9.0    | 10.1    | 141.4   |\n",
       "\n"
      ],
      "text/plain": [
       "  Status  Length Left  Right Bottom Top  Diagonal\n",
       "1 genuine 214.8  131.0 131.1  9.0    9.7 141.0   \n",
       "2 genuine 214.6  129.7 129.7  8.1    9.5 141.7   \n",
       "3 genuine 214.8  129.7 129.7  8.7    9.6 142.2   \n",
       "4 genuine 214.8  129.7 129.6  7.5   10.4 142.0   \n",
       "5 genuine 215.0  129.6 129.7 10.4    7.7 141.8   \n",
       "6 genuine 215.7  130.8 130.5  9.0   10.1 141.4   "
      ]
     },
     "metadata": {},
     "output_type": "display_data"
    }
   ],
   "source": [
    "head(banknote)"
   ]
  },
  {
   "cell_type": "code",
   "execution_count": 4,
   "id": "16566336",
   "metadata": {
    "ExecuteTime": {
     "end_time": "2022-04-05T22:07:07.195039Z",
     "start_time": "2022-04-05T22:07:07.151Z"
    },
    "vscode": {
     "languageId": "r"
    }
   },
   "outputs": [
    {
     "data": {
      "text/html": [
       "<table>\n",
       "<thead><tr><th></th><th scope=col>Status</th><th scope=col>Length</th><th scope=col>Left</th><th scope=col>Right</th><th scope=col>Bottom</th><th scope=col>Top</th><th scope=col>Diagonal</th></tr></thead>\n",
       "<tbody>\n",
       "\t<tr><th scope=row>50</th><td>genuine    </td><td>214.5      </td><td>129.0      </td><td>129.6      </td><td>7.8        </td><td> 9.8       </td><td>142.0      </td></tr>\n",
       "\t<tr><th scope=row>4</th><td>genuine    </td><td>214.8      </td><td>129.7      </td><td>129.6      </td><td>7.5        </td><td>10.4       </td><td>142.0      </td></tr>\n",
       "\t<tr><th scope=row>33</th><td>genuine    </td><td>215.0      </td><td>130.0      </td><td>129.6      </td><td>7.7        </td><td>10.5       </td><td>140.7      </td></tr>\n",
       "\t<tr><th scope=row>93</th><td>genuine    </td><td>214.9      </td><td>129.4      </td><td>129.5      </td><td>8.2        </td><td> 9.9       </td><td>141.5      </td></tr>\n",
       "\t<tr><th scope=row>138</th><td>counterfeit</td><td>214.9      </td><td>130.7      </td><td>130.3      </td><td>9.3        </td><td>11.2       </td><td>138.3      </td></tr>\n",
       "</tbody>\n",
       "</table>\n"
      ],
      "text/latex": [
       "\\begin{tabular}{r|lllllll}\n",
       "  & Status & Length & Left & Right & Bottom & Top & Diagonal\\\\\n",
       "\\hline\n",
       "\t50 & genuine     & 214.5       & 129.0       & 129.6       & 7.8         &  9.8        & 142.0      \\\\\n",
       "\t4 & genuine     & 214.8       & 129.7       & 129.6       & 7.5         & 10.4        & 142.0      \\\\\n",
       "\t33 & genuine     & 215.0       & 130.0       & 129.6       & 7.7         & 10.5        & 140.7      \\\\\n",
       "\t93 & genuine     & 214.9       & 129.4       & 129.5       & 8.2         &  9.9        & 141.5      \\\\\n",
       "\t138 & counterfeit & 214.9       & 130.7       & 130.3       & 9.3         & 11.2        & 138.3      \\\\\n",
       "\\end{tabular}\n"
      ],
      "text/markdown": [
       "\n",
       "| <!--/--> | Status | Length | Left | Right | Bottom | Top | Diagonal |\n",
       "|---|---|---|---|---|---|---|---|\n",
       "| 50 | genuine     | 214.5       | 129.0       | 129.6       | 7.8         |  9.8        | 142.0       |\n",
       "| 4 | genuine     | 214.8       | 129.7       | 129.6       | 7.5         | 10.4        | 142.0       |\n",
       "| 33 | genuine     | 215.0       | 130.0       | 129.6       | 7.7         | 10.5        | 140.7       |\n",
       "| 93 | genuine     | 214.9       | 129.4       | 129.5       | 8.2         |  9.9        | 141.5       |\n",
       "| 138 | counterfeit | 214.9       | 130.7       | 130.3       | 9.3         | 11.2        | 138.3       |\n",
       "\n"
      ],
      "text/plain": [
       "    Status      Length Left  Right Bottom Top  Diagonal\n",
       "50  genuine     214.5  129.0 129.6 7.8     9.8 142.0   \n",
       "4   genuine     214.8  129.7 129.6 7.5    10.4 142.0   \n",
       "33  genuine     215.0  130.0 129.6 7.7    10.5 140.7   \n",
       "93  genuine     214.9  129.4 129.5 8.2     9.9 141.5   \n",
       "138 counterfeit 214.9  130.7 130.3 9.3    11.2 138.3   "
      ]
     },
     "metadata": {},
     "output_type": "display_data"
    }
   ],
   "source": [
    "banknote[sample.int(nrow(banknote), 5), ]"
   ]
  },
  {
   "cell_type": "code",
   "execution_count": 5,
   "id": "41fbd112",
   "metadata": {
    "ExecuteTime": {
     "end_time": "2022-04-05T22:07:07.478009Z",
     "start_time": "2022-04-05T22:07:07.440Z"
    },
    "vscode": {
     "languageId": "r"
    }
   },
   "outputs": [
    {
     "data": {
      "text/plain": [
       "         Status        Length           Left           Right      \n",
       " counterfeit:100   Min.   :213.8   Min.   :129.0   Min.   :129.0  \n",
       " genuine    :100   1st Qu.:214.6   1st Qu.:129.9   1st Qu.:129.7  \n",
       "                   Median :214.9   Median :130.2   Median :130.0  \n",
       "                   Mean   :214.9   Mean   :130.1   Mean   :130.0  \n",
       "                   3rd Qu.:215.1   3rd Qu.:130.4   3rd Qu.:130.2  \n",
       "                   Max.   :216.3   Max.   :131.0   Max.   :131.1  \n",
       "     Bottom            Top           Diagonal    \n",
       " Min.   : 7.200   Min.   : 7.70   Min.   :137.8  \n",
       " 1st Qu.: 8.200   1st Qu.:10.10   1st Qu.:139.5  \n",
       " Median : 9.100   Median :10.60   Median :140.4  \n",
       " Mean   : 9.418   Mean   :10.65   Mean   :140.5  \n",
       " 3rd Qu.:10.600   3rd Qu.:11.20   3rd Qu.:141.5  \n",
       " Max.   :12.700   Max.   :12.30   Max.   :142.4  "
      ]
     },
     "metadata": {},
     "output_type": "display_data"
    }
   ],
   "source": [
    "summary(banknote)"
   ]
  },
  {
   "cell_type": "markdown",
   "id": "9050a82c",
   "metadata": {},
   "source": [
    "Apply PCA with two Komponents to the data."
   ]
  },
  {
   "cell_type": "code",
   "execution_count": 6,
   "id": "f9d60cd6",
   "metadata": {
    "ExecuteTime": {
     "end_time": "2022-04-05T22:07:08.118908Z",
     "start_time": "2022-04-05T22:07:08.071Z"
    },
    "vscode": {
     "languageId": "r"
    }
   },
   "outputs": [],
   "source": [
    "banknote_pca <- prcomp(banknote[,2:7], scale. = FALSE)"
   ]
  },
  {
   "cell_type": "code",
   "execution_count": 7,
   "id": "46b9c8b9",
   "metadata": {
    "ExecuteTime": {
     "end_time": "2022-04-05T22:07:08.352740Z",
     "start_time": "2022-04-05T22:07:08.323Z"
    },
    "vscode": {
     "languageId": "r"
    }
   },
   "outputs": [],
   "source": [
    "pcs_banknote <- banknote_pca$x[,1:2]"
   ]
  },
  {
   "cell_type": "code",
   "execution_count": 8,
   "id": "e85b729c",
   "metadata": {
    "ExecuteTime": {
     "end_time": "2022-04-05T22:07:09.471664Z",
     "start_time": "2022-04-05T22:07:09.017Z"
    },
    "vscode": {
     "languageId": "r"
    }
   },
   "outputs": [
    {
     "data": {
      "image/png": "[encoded data removed]",
      "text/plain": [
       "plot without title"
      ]
     },
     "metadata": {},
     "output_type": "display_data"
    }
   ],
   "source": [
    "plot_data <- data.frame('PC1' = pcs_banknote[,1], 'PC2' = pcs_banknote[,2] , 'Status' = banknote$Status)\n",
    "ggplot(plot_data, aes(PC1, PC2, color=Status)) + \n",
    "geom_point() +\n",
    "theme_minimal() +\n",
    "labs(title = 'Scatterplot of first two PCs colored by their class')                                "
   ]
  },
  {
   "cell_type": "markdown",
   "id": "4660d6fe",
   "metadata": {},
   "source": [
    "# Agglomerative Hierarchical Clustering"
   ]
  },
  {
   "cell_type": "code",
   "execution_count": 20,
   "id": "03b18c70",
   "metadata": {
    "vscode": {
     "languageId": "r"
    }
   },
   "outputs": [],
   "source": [
    "# functions for binary distances\n",
    "matching_coefficient <- function(x, y){\n",
    "    stopifnot(length(x) == length(y))\n",
    "\n",
    "    sum(x == y) / length(x)\n",
    "}\n",
    "\n",
    "similarity_coefficient <- function(x, y){\n",
    "    stopifnot(length(x) == length(y))\n",
    "\n",
    "    a11 <- sum(x * y)\n",
    "    a10 <- sum(x == 1 & y == 0)\n",
    "    a01 <- sum(x == 0 & y == 1)\n",
    "    a11 / (a11 + a10 + a01)\n",
    "}\n",
    "\n",
    "general_similarity_measurement <- function(x, y, alpha = 1, beta=1) {\n",
    "    a11 <- sum(x * y)\n",
    "    a00 <- sum(x + y == 0)\n",
    "    a10 <- sum(x == 1 & y == 0)\n",
    "    a01 <- sum(x == 0 & y == 1)\n",
    "\n",
    "    (a11 + alpha * a00) / (a11 + alpha * a00 + beta*(a10 + a01))\n",
    "}"
   ]
  },
  {
   "cell_type": "markdown",
   "id": "4a40cd9e",
   "metadata": {},
   "source": [
    "Test the binary with two vectors where each case of match for a single digit is exactly contained once, i.e., for two vectors at position i the following cases can occur: both 0 (a00), both 1(a11), first 0 and second 1 (a01) or the other way around (a10)."
   ]
  },
  {
   "cell_type": "code",
   "execution_count": 21,
   "id": "52fa2103",
   "metadata": {
    "vscode": {
     "languageId": "r"
    }
   },
   "outputs": [
    {
     "data": {
      "text/html": [
       "0.5"
      ],
      "text/latex": [
       "0.5"
      ],
      "text/markdown": [
       "0.5"
      ],
      "text/plain": [
       "[1] 0.5"
      ]
     },
     "metadata": {},
     "output_type": "display_data"
    },
    {
     "data": {
      "text/html": [
       "0.333333333333333"
      ],
      "text/latex": [
       "0.333333333333333"
      ],
      "text/markdown": [
       "0.333333333333333"
      ],
      "text/plain": [
       "[1] 0.3333333"
      ]
     },
     "metadata": {},
     "output_type": "display_data"
    },
    {
     "data": {
      "text/html": [
       "0.5"
      ],
      "text/latex": [
       "0.5"
      ],
      "text/markdown": [
       "0.5"
      ],
      "text/plain": [
       "[1] 0.5"
      ]
     },
     "metadata": {},
     "output_type": "display_data"
    }
   ],
   "source": [
    "x <- c(1, 0, 0, 1)\n",
    "y <- c(1, 1, 0, 0)\n",
    "\n",
    "# distances\n",
    "matching_coefficient(x, y)\n",
    "similarity_coefficient(x,y)\n",
    "general_similarity_measurement(x,y)"
   ]
  },
  {
   "cell_type": "code",
   "execution_count": 9,
   "id": "4e025cb6",
   "metadata": {
    "ExecuteTime": {
     "end_time": "2022-04-05T22:07:09.591665Z",
     "start_time": "2022-04-05T22:07:09.567Z"
    },
    "vscode": {
     "languageId": "r"
    }
   },
   "outputs": [],
   "source": [
    "# compute the distance matrix\n",
    "dist_banknote <- dist(pcs_banknote)"
   ]
  },
  {
   "cell_type": "code",
   "execution_count": 10,
   "id": "363acb63",
   "metadata": {
    "ExecuteTime": {
     "end_time": "2022-04-05T22:07:09.860807Z",
     "start_time": "2022-04-05T22:07:09.823Z"
    },
    "vscode": {
     "languageId": "r"
    }
   },
   "outputs": [],
   "source": [
    "cl_single <- hclust(dist_banknote, method = 'single')\n",
    "cl_complete <- hclust(dist_banknote, method = 'complete')\n",
    "cl_mean <- hclust(dist_banknote, method = 'average')\n",
    "cl_ward <- hclust(dist_banknote, method = 'ward.D2')"
   ]
  },
  {
   "cell_type": "code",
   "execution_count": 11,
   "id": "c844971e",
   "metadata": {
    "ExecuteTime": {
     "end_time": "2022-04-05T22:07:10.861831Z",
     "start_time": "2022-04-05T22:07:10.133Z"
    },
    "vscode": {
     "languageId": "r"
    }
   },
   "outputs": [
    {
     "data": {
      "image/png": "[encoded data removed]",
      "text/plain": [
       "Plot with title \"Cluster Dendrogram\""
      ]
     },
     "metadata": {},
     "output_type": "display_data"
    }
   ],
   "source": [
    "par(mfrow = c(2,2))\n",
    "plot(cl_single)\n",
    "plot(cl_complete)\n",
    "plot(cl_mean)\n",
    "plot(cl_ward)"
   ]
  },
  {
   "cell_type": "code",
   "execution_count": 12,
   "id": "e4190f20",
   "metadata": {
    "ExecuteTime": {
     "end_time": "2022-04-05T22:07:11.452539Z",
     "start_time": "2022-04-05T22:07:10.440Z"
    },
    "vscode": {
     "languageId": "r"
    }
   },
   "outputs": [
    {
     "data": {
      "image/png": "[encoded data removed]",
      "text/plain": [
       "plot without title"
      ]
     },
     "metadata": {},
     "output_type": "display_data"
    }
   ],
   "source": [
    "# Now color the respective cluster\n",
    "par(mfrow = c(1,2))\n",
    "options(repr.plot.width = 7.5, repr.plot.height = 3.5)\n",
    "plot(color_branches(as.dendrogram(cl_single), k = 3, col= c('red','black',  'green')))\n",
    "plot(pcs_banknote, col = cutree(cl_single, k=3), pch = 16)"
   ]
  },
  {
   "cell_type": "code",
   "execution_count": 13,
   "id": "38e80373",
   "metadata": {
    "ExecuteTime": {
     "end_time": "2022-04-05T22:07:12.011711Z",
     "start_time": "2022-04-05T22:07:10.945Z"
    },
    "vscode": {
     "languageId": "r"
    }
   },
   "outputs": [
    {
     "data": {
      "image/png": "[encoded data removed]",
      "text/plain": [
       "plot without title"
      ]
     },
     "metadata": {},
     "output_type": "display_data"
    }
   ],
   "source": [
    "par(mfrow = c(1,2))\n",
    "options(repr.plot.width = 7.5, repr.plot.height = 3.5)\n",
    "plot(color_branches(as.dendrogram(cl_complete), k = 3, col= c('black', 'green','red')))\n",
    "plot(pcs_banknote, col = cutree(cl_complete, k=3), pch = 16)"
   ]
  },
  {
   "cell_type": "code",
   "execution_count": 14,
   "id": "2bfbc717",
   "metadata": {
    "ExecuteTime": {
     "end_time": "2022-04-05T22:07:12.598826Z",
     "start_time": "2022-04-05T22:07:11.313Z"
    },
    "vscode": {
     "languageId": "r"
    }
   },
   "outputs": [
    {
     "data": {
      "image/png": "[encoded data removed]",
      "text/plain": [
       "plot without title"
      ]
     },
     "metadata": {},
     "output_type": "display_data"
    }
   ],
   "source": [
    "par(mfrow = c(1,2))\n",
    "options(repr.plot.width = 7.5, repr.plot.height = 3.5)\n",
    "plot(color_branches(as.dendrogram(cl_mean), k = 4, col=c('green', 'blue', 'red', 'black')))\n",
    "plot(pcs_banknote, col = cutree(cl_mean, k=4), pch = 16)"
   ]
  },
  {
   "cell_type": "code",
   "execution_count": 15,
   "id": "8273126f",
   "metadata": {
    "ExecuteTime": {
     "end_time": "2022-04-05T22:07:13.202155Z",
     "start_time": "2022-04-05T22:07:11.705Z"
    },
    "vscode": {
     "languageId": "r"
    }
   },
   "outputs": [
    {
     "data": {
      "image/png": "[encoded data removed]",
      "text/plain": [
       "plot without title"
      ]
     },
     "metadata": {},
     "output_type": "display_data"
    }
   ],
   "source": [
    "par(mfrow = c(1,2))\n",
    "options(repr.plot.width = 7.5, repr.plot.height = 3.5)\n",
    "plot(color_branches(as.dendrogram(cl_ward), k = 2, col = c('red', 'black')))\n",
    "plot(pcs_banknote, col = cutree(cl_ward, k=2), pch = 16)"
   ]
  },
  {
   "cell_type": "markdown",
   "id": "2a20c30b",
   "metadata": {},
   "source": [
    "# K-Means\n",
    "\n",
    "In the following, we apply K-Means clustering to the Swiss banknote dataset. First on the full data and then on the first two principal components only."
   ]
  },
  {
   "cell_type": "code",
   "execution_count": 57,
   "id": "908addc7",
   "metadata": {
    "vscode": {
     "languageId": "r"
    }
   },
   "outputs": [
    {
     "data": {
      "text/plain": [
       "K-means clustering with 2 clusters of sizes 100, 100\n",
       "\n",
       "Cluster means:\n",
       "   Length    Left   Right Bottom    Top Diagonal\n",
       "1 214.823 130.300 130.193 10.530 11.133  139.450\n",
       "2 214.969 129.943 129.720  8.305 10.168  141.517\n",
       "\n",
       "Clustering vector:\n",
       "  [1] 2 2 2 2 2 2 2 2 2 2 2 2 2 2 2 2 2 2 2 2 2 2 2 2 2 2 2 2 2 2 2 2 2 2 2 2 2\n",
       " [38] 2 2 2 2 2 2 2 2 2 2 2 2 2 2 2 2 2 2 2 2 2 2 2 2 2 2 2 2 2 2 2 2 2 2 2 2 2\n",
       " [75] 2 2 2 2 2 2 2 2 2 2 2 2 2 2 2 2 2 2 2 2 2 2 2 2 2 2 1 1 1 1 1 1 1 1 1 1 1\n",
       "[112] 1 1 1 1 1 1 1 1 1 1 1 1 1 1 1 1 1 1 1 1 1 1 1 1 1 1 1 1 1 1 1 1 1 1 1 1 1\n",
       "[149] 1 1 1 1 1 1 1 1 1 1 1 1 1 1 1 1 1 1 1 1 1 1 1 1 1 1 1 1 1 1 1 1 1 1 1 1 1\n",
       "[186] 1 1 1 1 1 1 1 1 1 1 1 1 1 1 1\n",
       "\n",
       "Within cluster sum of squares by cluster:\n",
       "[1] 225.2233 142.8852\n",
       " (between_SS / total_SS =  58.8 %)\n",
       "\n",
       "Available components:\n",
       "\n",
       "[1] \"cluster\"      \"centers\"      \"totss\"        \"withinss\"     \"tot.withinss\"\n",
       "[6] \"betweenss\"    \"size\"         \"iter\"         \"ifault\"      "
      ]
     },
     "metadata": {},
     "output_type": "display_data"
    }
   ],
   "source": [
    "set.seed(2022)\n",
    "(kmeans_swiss <- kmeans(banknote[, -1], centers = 2, iter.max = 100, nstart = 1, algorithm = \"Lloyd\"))"
   ]
  },
  {
   "cell_type": "code",
   "execution_count": 129,
   "id": "781ba728",
   "metadata": {
    "vscode": {
     "languageId": "r"
    }
   },
   "outputs": [
    {
     "data": {
      "image/png": "[encoded data removed]",
      "text/plain": [
       "plot without title"
      ]
     },
     "metadata": {},
     "output_type": "display_data"
    }
   ],
   "source": [
    "options(repr.plot.width = 10.5, repr.plot.height = 5.5)\n",
    "pairs(banknote[, -1], col=kmeans_swiss$cluster, pch=16)"
   ]
  },
  {
   "cell_type": "code",
   "execution_count": 58,
   "id": "775be238",
   "metadata": {
    "vscode": {
     "languageId": "r"
    }
   },
   "outputs": [
    {
     "data": {
      "text/html": [
       "1"
      ],
      "text/latex": [
       "1"
      ],
      "text/markdown": [
       "1"
      ],
      "text/plain": [
       "[1] 1"
      ]
     },
     "metadata": {},
     "output_type": "display_data"
    }
   ],
   "source": [
    "# Accuracy\n",
    "sum(diag(table(kmeans_swiss$cluster, banknote[, 1]))) / length(banknote[,1])"
   ]
  },
  {
   "cell_type": "code",
   "execution_count": 59,
   "id": "1dfa6392",
   "metadata": {
    "vscode": {
     "languageId": "r"
    }
   },
   "outputs": [
    {
     "data": {
      "text/plain": [
       "Confusion Matrix and Statistics\n",
       "\n",
       "             Reference\n",
       "Prediction    counterfeit genuine\n",
       "  counterfeit         100       0\n",
       "  genuine               0     100\n",
       "                                     \n",
       "               Accuracy : 1          \n",
       "                 95% CI : (0.9817, 1)\n",
       "    No Information Rate : 0.5        \n",
       "    P-Value [Acc > NIR] : < 2.2e-16  \n",
       "                                     \n",
       "                  Kappa : 1          \n",
       "                                     \n",
       " Mcnemar's Test P-Value : NA         \n",
       "                                     \n",
       "            Sensitivity : 1.0        \n",
       "            Specificity : 1.0        \n",
       "         Pos Pred Value : 1.0        \n",
       "         Neg Pred Value : 1.0        \n",
       "             Prevalence : 0.5        \n",
       "         Detection Rate : 0.5        \n",
       "   Detection Prevalence : 0.5        \n",
       "      Balanced Accuracy : 1.0        \n",
       "                                     \n",
       "       'Positive' Class : counterfeit\n",
       "                                     "
      ]
     },
     "metadata": {},
     "output_type": "display_data"
    }
   ],
   "source": [
    "confusionMatrix(as.factor(ifelse(kmeans_swiss$cluster == 1, 'counterfeit', 'genuine')), banknote[,1])"
   ]
  },
  {
   "cell_type": "code",
   "execution_count": 60,
   "id": "5940f918",
   "metadata": {
    "vscode": {
     "languageId": "r"
    }
   },
   "outputs": [
    {
     "data": {
      "text/plain": [
       "K-means clustering with 2 clusters of sizes 100, 100\n",
       "\n",
       "Cluster means:\n",
       "        PC1        PC2\n",
       "1 -1.606522 -0.2242454\n",
       "2  1.606522  0.2242454\n",
       "\n",
       "Clustering vector:\n",
       "  [1] 2 2 2 2 2 2 2 2 2 2 2 2 2 2 2 2 2 2 2 2 2 2 2 2 2 2 2 2 2 2 2 2 2 2 2 2 2\n",
       " [38] 2 2 2 2 2 2 2 2 2 2 2 2 2 2 2 2 2 2 2 2 2 2 2 2 2 2 2 2 2 2 2 2 2 2 2 2 2\n",
       " [75] 2 2 2 2 2 2 2 2 2 2 2 2 2 2 2 2 2 2 2 2 2 2 2 2 2 2 1 1 1 1 1 1 1 1 1 1 1\n",
       "[112] 1 1 1 1 1 1 1 1 1 1 1 1 1 1 1 1 1 1 1 1 1 1 1 1 1 1 1 1 1 1 1 1 1 1 1 1 1\n",
       "[149] 1 1 1 1 1 1 1 1 1 1 1 1 1 1 1 1 1 1 1 1 1 1 1 1 1 1 1 1 1 1 1 1 1 1 1 1 1\n",
       "[186] 1 1 1 1 1 1 1 1 1 1 1 1 1 1 1\n",
       "\n",
       "Within cluster sum of squares by cluster:\n",
       "[1] 166.71184  90.29782\n",
       " (between_SS / total_SS =  67.2 %)\n",
       "\n",
       "Available components:\n",
       "\n",
       "[1] \"cluster\"      \"centers\"      \"totss\"        \"withinss\"     \"tot.withinss\"\n",
       "[6] \"betweenss\"    \"size\"         \"iter\"         \"ifault\"      "
      ]
     },
     "metadata": {},
     "output_type": "display_data"
    }
   ],
   "source": [
    "# Repeat for only first two principal diagnoses\n",
    "set.seed(2022)\n",
    "(kmeans_swiss <- kmeans(pcs_banknote, centers = 2, iter.max = 100, nstart = 100, algorithm = \"Lloyd\"))"
   ]
  },
  {
   "cell_type": "code",
   "execution_count": 61,
   "id": "5cfb9710",
   "metadata": {
    "vscode": {
     "languageId": "r"
    }
   },
   "outputs": [
    {
     "data": {
      "image/png": "[encoded data removed]",
      "text/plain": [
       "plot without title"
      ]
     },
     "metadata": {},
     "output_type": "display_data"
    }
   ],
   "source": [
    "plot(pcs_banknote, col= as.factor(kmeans_swiss$cluster), pch=16)"
   ]
  },
  {
   "cell_type": "code",
   "execution_count": 62,
   "id": "88c66207",
   "metadata": {
    "vscode": {
     "languageId": "r"
    }
   },
   "outputs": [
    {
     "data": {
      "text/plain": [
       "Confusion Matrix and Statistics\n",
       "\n",
       "             Reference\n",
       "Prediction    counterfeit genuine\n",
       "  counterfeit         100       0\n",
       "  genuine               0     100\n",
       "                                     \n",
       "               Accuracy : 1          \n",
       "                 95% CI : (0.9817, 1)\n",
       "    No Information Rate : 0.5        \n",
       "    P-Value [Acc > NIR] : < 2.2e-16  \n",
       "                                     \n",
       "                  Kappa : 1          \n",
       "                                     \n",
       " Mcnemar's Test P-Value : NA         \n",
       "                                     \n",
       "            Sensitivity : 1.0        \n",
       "            Specificity : 1.0        \n",
       "         Pos Pred Value : 1.0        \n",
       "         Neg Pred Value : 1.0        \n",
       "             Prevalence : 0.5        \n",
       "         Detection Rate : 0.5        \n",
       "   Detection Prevalence : 0.5        \n",
       "      Balanced Accuracy : 1.0        \n",
       "                                     \n",
       "       'Positive' Class : counterfeit\n",
       "                                     "
      ]
     },
     "metadata": {},
     "output_type": "display_data"
    }
   ],
   "source": [
    "confusionMatrix(as.factor(ifelse(kmeans_swiss$cluster == 1, 'counterfeit', 'genuine')), banknote[,1])"
   ]
  },
  {
   "cell_type": "markdown",
   "id": "d1d3379f",
   "metadata": {},
   "source": [
    "# Expectation Maximization (EM)\n",
    "\n",
    "First we will see how K-Means fails on the IRIS dataset, because the three clusters are not clearly distinguishable. Since the EM algorithm leverages an assumption about the data distribution it is able to better distinguish the clusters in IRIS. We assume the specieses to be normal distributed for the standart EM algorithm."
   ]
  },
  {
   "cell_type": "code",
   "execution_count": 63,
   "id": "c6eb902d",
   "metadata": {
    "vscode": {
     "languageId": "r"
    }
   },
   "outputs": [],
   "source": [
    "data(iris)"
   ]
  },
  {
   "cell_type": "code",
   "execution_count": 77,
   "id": "f203a2ef",
   "metadata": {
    "vscode": {
     "languageId": "r"
    }
   },
   "outputs": [],
   "source": [
    "set.seed(33)\n",
    "kmeans_iris <- kmeans(iris[, 1:4], centers = 3, iter.max = 10, nstart = 100)\n",
    "em_iris <- Mclust(iris[, 1:4], G=3)"
   ]
  },
  {
   "cell_type": "code",
   "execution_count": 80,
   "id": "20f9cdb2",
   "metadata": {
    "vscode": {
     "languageId": "r"
    }
   },
   "outputs": [
    {
     "data": {
      "text/plain": [
       "   \n",
       "    setosa versicolor virginica\n",
       "  1     50          0         0\n",
       "  2      0         48        14\n",
       "  3      0          2        36"
      ]
     },
     "metadata": {},
     "output_type": "display_data"
    }
   ],
   "source": [
    "(kmeans_ct <- table(kmeans_iris$cluster, iris$Species))"
   ]
  },
  {
   "cell_type": "code",
   "execution_count": 81,
   "id": "ce9bfb95",
   "metadata": {
    "vscode": {
     "languageId": "r"
    }
   },
   "outputs": [
    {
     "data": {
      "text/html": [
       "0.893333333333333"
      ],
      "text/latex": [
       "0.893333333333333"
      ],
      "text/markdown": [
       "0.893333333333333"
      ],
      "text/plain": [
       "[1] 0.8933333"
      ]
     },
     "metadata": {},
     "output_type": "display_data"
    }
   ],
   "source": [
    "# Accuracy of kmeans on Iris\n",
    "sum(diag(kmeans_ct)) / length(iris$Species)"
   ]
  },
  {
   "cell_type": "code",
   "execution_count": 83,
   "id": "1d334533",
   "metadata": {
    "vscode": {
     "languageId": "r"
    }
   },
   "outputs": [
    {
     "data": {
      "text/plain": [
       "   \n",
       "    setosa versicolor virginica\n",
       "  1     50          0         0\n",
       "  2      0         45         0\n",
       "  3      0          5        50"
      ]
     },
     "metadata": {},
     "output_type": "display_data"
    }
   ],
   "source": [
    "(em_ct <- table(em_iris$classification, iris$Species))"
   ]
  },
  {
   "cell_type": "code",
   "execution_count": 84,
   "id": "ea16a627",
   "metadata": {
    "vscode": {
     "languageId": "r"
    }
   },
   "outputs": [
    {
     "data": {
      "text/html": [
       "0.966666666666667"
      ],
      "text/latex": [
       "0.966666666666667"
      ],
      "text/markdown": [
       "0.966666666666667"
      ],
      "text/plain": [
       "[1] 0.9666667"
      ]
     },
     "metadata": {},
     "output_type": "display_data"
    }
   ],
   "source": [
    "sum(diag(em_ct)) / length(iris$Species) # Much better than Kmeans"
   ]
  },
  {
   "cell_type": "code",
   "execution_count": 95,
   "id": "622e39a8",
   "metadata": {
    "vscode": {
     "languageId": "r"
    }
   },
   "outputs": [
    {
     "data": {
      "image/png": "[encoded data removed]",
      "text/plain": [
       "Plot with title \"EM\""
      ]
     },
     "metadata": {},
     "output_type": "display_data"
    }
   ],
   "source": [
    "# visual comparison\n",
    "par(mfrow = c(1,3))\n",
    "options(repr.plot.width = 10.5, repr.plot.height = 3.5)\n",
    "plot(iris[, 1:2], col=kmeans_iris$cluster, pch=16, main='K-Means')\n",
    "plot(iris[, 1:2], col=iris$Species, pch=16, main='Ground Truth')\n",
    "plot(iris[, 1:2], col=em_iris$classification, pch=16, main='EM')"
   ]
  },
  {
   "cell_type": "markdown",
   "id": "b3d8c8ed",
   "metadata": {},
   "source": [
    "Now we show how we can use the EM algorithm to assign new data to a known cluster and how to bootstrap from the EM"
   ]
  },
  {
   "cell_type": "code",
   "execution_count": 101,
   "id": "8f0c2e23",
   "metadata": {
    "vscode": {
     "languageId": "r"
    }
   },
   "outputs": [],
   "source": [
    "new_iris <- c(5.5, 2.1, 4.0, 0.8)"
   ]
  },
  {
   "cell_type": "code",
   "execution_count": 106,
   "id": "c8bef75b",
   "metadata": {
    "vscode": {
     "languageId": "r"
    }
   },
   "outputs": [],
   "source": [
    "# extract the parameters from the EM\n",
    "prior_probabilities <- em_iris$parameters$pro\n",
    "cluster_means <- em_iris$parameters$mean\n",
    "cluster_variances <- em_iris$parameters$variance$sigma"
   ]
  },
  {
   "cell_type": "code",
   "execution_count": 110,
   "id": "9bd320db",
   "metadata": {
    "vscode": {
     "languageId": "r"
    }
   },
   "outputs": [
    {
     "data": {
      "text/html": [
       "<ol class=list-inline>\n",
       "\t<li>1.64875519811284e-56</li>\n",
       "\t<li>0.951097265442772</li>\n",
       "\t<li>0.0489027345572276</li>\n",
       "</ol>\n"
      ],
      "text/latex": [
       "\\begin{enumerate*}\n",
       "\\item 1.64875519811284e-56\n",
       "\\item 0.951097265442772\n",
       "\\item 0.0489027345572276\n",
       "\\end{enumerate*}\n"
      ],
      "text/markdown": [
       "1. 1.64875519811284e-56\n",
       "2. 0.951097265442772\n",
       "3. 0.0489027345572276\n",
       "\n",
       "\n"
      ],
      "text/plain": [
       "[1] 1.648755e-56 9.510973e-01 4.890273e-02"
      ]
     },
     "metadata": {},
     "output_type": "display_data"
    }
   ],
   "source": [
    "# Compute the posterior probability\n",
    "cluster_probability <- numeric(3)\n",
    "for (i in 1:3) {\n",
    "  cluster_probability[i] <- prior_probabilities[i] * dmvnorm(new_iris, mean = cluster_means[, i], sigma =\n",
    "    cluster_variances[, , i])\n",
    "}\n",
    "cluster_probability / sum(cluster_probability)"
   ]
  },
  {
   "cell_type": "code",
   "execution_count": 114,
   "id": "6e0e358c",
   "metadata": {
    "vscode": {
     "languageId": "r"
    }
   },
   "outputs": [
    {
     "data": {
      "text/html": [
       "<dl>\n",
       "\t<dt>$classification</dt>\n",
       "\t\t<dd>2</dd>\n",
       "\t<dt>$z</dt>\n",
       "\t\t<dd><table>\n",
       "<thead><tr><th scope=col>1</th><th scope=col>2</th><th scope=col>3</th></tr></thead>\n",
       "<tbody>\n",
       "\t<tr><td>1.648755e-56</td><td>0.9510973   </td><td>0.04890273  </td></tr>\n",
       "</tbody>\n",
       "</table>\n",
       "</dd>\n",
       "</dl>\n"
      ],
      "text/latex": [
       "\\begin{description}\n",
       "\\item[\\$classification] 2\n",
       "\\item[\\$z] \\begin{tabular}{lll}\n",
       " 1 & 2 & 3\\\\\n",
       "\\hline\n",
       "\t 1.648755e-56 & 0.9510973    & 0.04890273  \\\\\n",
       "\\end{tabular}\n",
       "\n",
       "\\end{description}\n"
      ],
      "text/markdown": [
       "$classification\n",
       ":   2\n",
       "$z\n",
       ":   \n",
       "| 1 | 2 | 3 |\n",
       "|---|---|---|\n",
       "| 1.648755e-56 | 0.9510973    | 0.04890273   |\n",
       "\n",
       "\n",
       "\n",
       "\n"
      ],
      "text/plain": [
       "$classification\n",
       "[1] 2\n",
       "\n",
       "$z\n",
       "                1         2          3\n",
       "[1,] 1.648755e-56 0.9510973 0.04890273\n"
      ]
     },
     "metadata": {},
     "output_type": "display_data"
    }
   ],
   "source": [
    "# alternatively\n",
    "predict.Mclust(em_iris, data.frame(X1= new_iris[1], X2= new_iris[2], X3= new_iris[3], X4=new_iris[4]))"
   ]
  },
  {
   "cell_type": "markdown",
   "id": "5125249d",
   "metadata": {},
   "source": [
    "Since the probability for the second EM cluster is the highest we would assign the new observation to the second cluster which corresponds to assuming the species to be \"versicolor\". Now, we can use the  parameters to sample a set with the same distribution than iris."
   ]
  },
  {
   "cell_type": "code",
   "execution_count": 115,
   "id": "4fbaa2d6",
   "metadata": {
    "vscode": {
     "languageId": "r"
    }
   },
   "outputs": [],
   "source": [
    "set.seed(2022)\n",
    "# sample first the species from the cluster priors\n",
    "sample_species <- sample(1:3, size = 150, replace = TRUE, prob = prior_probabilities)"
   ]
  },
  {
   "cell_type": "code",
   "execution_count": 119,
   "id": "4611aaf1",
   "metadata": {
    "vscode": {
     "languageId": "r"
    }
   },
   "outputs": [],
   "source": [
    "# Now draw random datapoints from the respective cluster\n",
    "sampled_iris <- sapply(sample_species, function(species){\n",
    "    rmvnorm(1, mean = cluster_means[, species], sigma =\n",
    "    cluster_variances[, , species])\n",
    "})\n",
    "sampled_iris <- t(sampled_iris)"
   ]
  },
  {
   "cell_type": "code",
   "execution_count": 126,
   "id": "048b7664",
   "metadata": {
    "vscode": {
     "languageId": "r"
    }
   },
   "outputs": [
    {
     "data": {
      "image/png": "[encoded data removed]",
      "text/plain": [
       "Plot with title \"Sampled Iris from EM model\""
      ]
     },
     "metadata": {},
     "output_type": "display_data"
    }
   ],
   "source": [
    "options(repr.plot.width = 6.5, repr.plot.height = 4.5)\n",
    "plot(sampled_iris[, 1:2], col = sample_species, pch = 16,\n",
    "xlab=\"Sepal Length\", ylab='Sepal Width' ,main = \"Sampled Iris from EM model\")"
   ]
  }
 ],
 "metadata": {
  "interpreter": {
   "hash": "0cc0b4ee1efb9348ba5acfb80d82942abcce721886ae024ab5ed8cb5988ffbc3"
  },
  "kernelspec": {
   "display_name": "R",
   "language": "R",
   "name": "ir"
  },
  "language_info": {
   "codemirror_mode": "r",
   "file_extension": ".r",
   "mimetype": "text/x-r-source",
   "name": "R",
   "pygments_lexer": "r",
   "version": "3.6.1"
  },
  "toc": {
   "base_numbering": 1,
   "nav_menu": {},
   "number_sections": true,
   "sideBar": true,
   "skip_h1_title": false,
   "title_cell": "Table of Contents",
   "title_sidebar": "Contents",
   "toc_cell": false,
   "toc_position": {},
   "toc_section_display": true,
   "toc_window_display": false
  }
 },
 "nbformat": 4,
 "nbformat_minor": 5
}
